{
 "cells": [
  {
   "cell_type": "code",
   "execution_count": 7,
   "metadata": {
    "colab": {
     "base_uri": "https://localhost:8080/",
     "height": 581
    },
    "colab_type": "code",
    "id": "fPghWfHRtRpc",
    "outputId": "00bb7781-6d36-4113-9815-cba2aa143496"
   },
   "outputs": [
    {
     "name": "stdout",
     "output_type": "stream",
     "text": [
      "Collecting alpha-vantage\n",
      "  Downloading https://files.pythonhosted.org/packages/12/e3/72ec32d859a363c2eebaa42e0d4abb5ac7172a7a77a2307576ceb5fc1b42/alpha_vantage-2.2.0.tar.gz\n",
      "Collecting aiohttp (from alpha-vantage)\n",
      "  Downloading https://files.pythonhosted.org/packages/bf/cf/07d7173838a2e20c46ba8a7d85267ed2187bf6774312c8bbb48820fbcb52/aiohttp-3.7.0-cp37-cp37m-win_amd64.whl (628kB)\n",
      "Requirement already satisfied: requests in z:\\new folder\\lib\\site-packages (from alpha-vantage) (2.22.0)\n",
      "Requirement already satisfied: chardet<4.0,>=2.0 in z:\\new folder\\lib\\site-packages (from aiohttp->alpha-vantage) (3.0.4)\n",
      "Collecting async-timeout<4.0,>=3.0 (from aiohttp->alpha-vantage)\n",
      "  Downloading https://files.pythonhosted.org/packages/e1/1e/5a4441be21b0726c4464f3f23c8b19628372f606755a9d2e46c187e65ec4/async_timeout-3.0.1-py3-none-any.whl\n",
      "Requirement already satisfied: attrs>=17.3.0 in z:\\new folder\\lib\\site-packages (from aiohttp->alpha-vantage) (19.2.0)\n",
      "Collecting yarl<2.0,>=1.0 (from aiohttp->alpha-vantage)\n",
      "  Downloading https://files.pythonhosted.org/packages/88/65/d8f8f8eecdac8f189adc031a98b60fb09e646eb59806d2187b4f93260ca6/yarl-1.6.2-cp37-cp37m-win_amd64.whl (126kB)\n",
      "Collecting multidict<7.0,>=4.5 (from aiohttp->alpha-vantage)\n",
      "  Downloading https://files.pythonhosted.org/packages/d4/50/9f702458b8f261fbfb105c2a12f752ff246de27a5f7aab0eca487bc55f1c/multidict-5.0.0-cp37-cp37m-win_amd64.whl (48kB)\n",
      "Requirement already satisfied: idna<2.9,>=2.5 in z:\\new folder\\lib\\site-packages (from requests->alpha-vantage) (2.8)\n",
      "Requirement already satisfied: urllib3!=1.25.0,!=1.25.1,<1.26,>=1.21.1 in z:\\new folder\\lib\\site-packages (from requests->alpha-vantage) (1.24.2)\n",
      "Requirement already satisfied: certifi>=2017.4.17 in z:\\new folder\\lib\\site-packages (from requests->alpha-vantage) (2019.9.11)\n",
      "Collecting typing-extensions>=3.7.4; python_version < \"3.8\" (from yarl<2.0,>=1.0->aiohttp->alpha-vantage)\n",
      "  Downloading https://files.pythonhosted.org/packages/60/7a/e881b5abb54db0e6e671ab088d079c57ce54e8a01a3ca443f561ccadb37e/typing_extensions-3.7.4.3-py3-none-any.whl\n",
      "Building wheels for collected packages: alpha-vantage\n",
      "  Building wheel for alpha-vantage (setup.py): started\n",
      "  Building wheel for alpha-vantage (setup.py): finished with status 'done'\n",
      "  Created wheel for alpha-vantage: filename=alpha_vantage-2.2.0-cp37-none-any.whl size=25710 sha256=a700b3c6d75b36871ba089a9ddb2329101ed54630a897405b1589728ffdba4fc\n",
      "  Stored in directory: C:\\Users\\Rahul Jha\\AppData\\Local\\pip\\Cache\\wheels\\3a\\fa\\05\\80b0afcbd2a4de8bd2a0c5cd77084e3d3a9cc12c48be9b7f84\n",
      "Successfully built alpha-vantage\n",
      "Installing collected packages: async-timeout, multidict, typing-extensions, yarl, aiohttp, alpha-vantage\n",
      "Successfully installed aiohttp-3.7.0 alpha-vantage-2.2.0 async-timeout-3.0.1 multidict-5.0.0 typing-extensions-3.7.4.3 yarl-1.6.2\n"
     ]
    },
    {
     "name": "stderr",
     "output_type": "stream",
     "text": [
      "  WARNING: Retrying (Retry(total=4, connect=None, read=None, redirect=None, status=None)) after connection broken by 'ReadTimeoutError(\"HTTPSConnectionPool(host='pypi.org', port=443): Read timed out. (read timeout=15)\")': /simple/alpha-vantage/\n",
      "  WARNING: Retrying (Retry(total=4, connect=None, read=None, redirect=None, status=None)) after connection broken by 'ReadTimeoutError(\"HTTPSConnectionPool(host='files.pythonhosted.org', port=443): Read timed out. (read timeout=15)\")': /packages/12/e3/72ec32d859a363c2eebaa42e0d4abb5ac7172a7a77a2307576ceb5fc1b42/alpha_vantage-2.2.0.tar.gz\n",
      "  WARNING: Retrying (Retry(total=3, connect=None, read=None, redirect=None, status=None)) after connection broken by 'ReadTimeoutError(\"HTTPSConnectionPool(host='files.pythonhosted.org', port=443): Read timed out. (read timeout=15)\")': /packages/12/e3/72ec32d859a363c2eebaa42e0d4abb5ac7172a7a77a2307576ceb5fc1b42/alpha_vantage-2.2.0.tar.gz\n",
      "  WARNING: Retrying (Retry(total=2, connect=None, read=None, redirect=None, status=None)) after connection broken by 'ReadTimeoutError(\"HTTPSConnectionPool(host='files.pythonhosted.org', port=443): Read timed out. (read timeout=15)\")': /packages/12/e3/72ec32d859a363c2eebaa42e0d4abb5ac7172a7a77a2307576ceb5fc1b42/alpha_vantage-2.2.0.tar.gz\n"
     ]
    }
   ],
   "source": [
    "!pip install alpha-vantage"
   ]
  },
  {
   "cell_type": "code",
   "execution_count": 14,
   "metadata": {
    "colab": {
     "base_uri": "https://localhost:8080/",
     "height": 1000
    },
    "colab_type": "code",
    "id": "Tn8ya_ChtStc",
    "outputId": "7e506a1b-f9fd-406c-c96a-6cfc3f04f056"
   },
   "outputs": [
    {
     "name": "stdout",
     "output_type": "stream",
     "text": [
      "0\n",
      "1\n",
      "2\n"
     ]
    }
   ],
   "source": [
    "import requests\n",
    "import alpha_vantage\n",
    "import pandas as pd\n",
    "from pandas.io.json import json_normalize\n",
    "import datetime\n",
    "import time\n",
    "\n",
    "API_URL = \"https://www.alphavantage.co/query\"\n",
    "df_final1=pd.DataFrame(data=None)\n",
    "symbols= 'IBM'\n",
    "count=0\n",
    "counter=0\n",
    "while count<len(symbols):\n",
    "\n",
    "    print(count)\n",
    "\n",
    "    df=pd.DataFrame()\n",
    "    data = {\n",
    "        \"function\": \"CASH_FLOW\",\n",
    "        \"symbol\": symbols[count],\n",
    "        \"apikey\": \"E5NQJVD48RHDVYIN\"\n",
    " \n",
    "     \n",
    "        }\n",
    "\n",
    "    response = requests.get(API_URL, params=data)\n",
    "\n",
    "    d=response.json()\n",
    "\n",
    "    name=[v for k,v in d.items()]\n",
    "\n",
    "    if bool(d):\n",
    "\n",
    "          if (name[0]==\n",
    "            \"Thank you for using Alpha Vantage! Our standard API call frequency is 5 calls per minute and 500 calls per day. Please visit https://www.alphavantage.co/premium/ if you would like to target a higher API call frequency.\"):\n",
    "            counter=counter+1\n",
    "            time.sleep(60)\n",
    "            continue\n",
    "     \n",
    "   \n",
    "\n",
    "\n",
    "   \n",
    "\n",
    "   \n",
    "    count=count+1\n",
    "\n",
    "   \n",
    "    if (bool(d)) and (name[0]!=\"Invalid API call. Please retry or visit the documentation (https://www.alphavantage.co/documentation/) for CASH_FLOW.\"):\n",
    "              df = json_normalize(response.json(), 'annualReports')\n",
    "              df['company name']=name[0]\n",
    "              df_final1=df_final1.append(df)\n",
    "              counter=0\n",
    "\n",
    "\n",
    "    if (counter>3):\n",
    "     break\n",
    "\n",
    "             \n",
    "          #a=pd.read_json(d,'symbol')\n",
    "\n",
    "     \n",
    "\n",
    "         \n",
    "\n",
    "         \n",
    "\n",
    "\n",
    " \n",
    "\n",
    "         \n",
    "\n",
    "         \n",
    "\n",
    "   \n",
    "    #from pandas.io.json import json_normalize\n",
    "    #df = json_normalize(response.json(), 'symbol')\n",
    "    #df['Company name']='Sector'\n",
    "    #df.append(df)"
   ]
  },
  {
   "cell_type": "code",
   "execution_count": 15,
   "metadata": {
    "colab": {
     "base_uri": "https://localhost:8080/",
     "height": 456
    },
    "colab_type": "code",
    "id": "2klOvRTqtcO5",
    "outputId": "c35aef9c-05cf-4c6a-cda6-c93e2d88dd9c"
   },
   "outputs": [
    {
     "data": {
      "text/html": [
       "<div>\n",
       "<style scoped>\n",
       "    .dataframe tbody tr th:only-of-type {\n",
       "        vertical-align: middle;\n",
       "    }\n",
       "\n",
       "    .dataframe tbody tr th {\n",
       "        vertical-align: top;\n",
       "    }\n",
       "\n",
       "    .dataframe thead th {\n",
       "        text-align: right;\n",
       "    }\n",
       "</style>\n",
       "<table border=\"1\" class=\"dataframe\">\n",
       "  <thead>\n",
       "    <tr style=\"text-align: right;\">\n",
       "      <th></th>\n",
       "      <th>fiscalDateEnding</th>\n",
       "      <th>reportedCurrency</th>\n",
       "      <th>investments</th>\n",
       "      <th>changeInLiabilities</th>\n",
       "      <th>cashflowFromInvestment</th>\n",
       "      <th>otherCashflowFromInvestment</th>\n",
       "      <th>netBorrowings</th>\n",
       "      <th>cashflowFromFinancing</th>\n",
       "      <th>otherCashflowFromFinancing</th>\n",
       "      <th>changeInOperatingActivities</th>\n",
       "      <th>...</th>\n",
       "      <th>dividendPayout</th>\n",
       "      <th>stockSaleAndPurchase</th>\n",
       "      <th>changeInInventory</th>\n",
       "      <th>changeInAccountReceivables</th>\n",
       "      <th>changeInNetIncome</th>\n",
       "      <th>capitalExpenditures</th>\n",
       "      <th>changeInReceivables</th>\n",
       "      <th>changeInExchangeRate</th>\n",
       "      <th>changeInCashAndCashEquivalents</th>\n",
       "      <th>company name</th>\n",
       "    </tr>\n",
       "  </thead>\n",
       "  <tbody>\n",
       "    <tr>\n",
       "      <td>0</td>\n",
       "      <td>2019-12-31</td>\n",
       "      <td>USD</td>\n",
       "      <td>-70751000</td>\n",
       "      <td>-4551000</td>\n",
       "      <td>-292733000</td>\n",
       "      <td>7836000</td>\n",
       "      <td>395350000</td>\n",
       "      <td>362910000</td>\n",
       "      <td>-27736000</td>\n",
       "      <td>18573000</td>\n",
       "      <td>...</td>\n",
       "      <td>-5771000</td>\n",
       "      <td>1067000</td>\n",
       "      <td>None</td>\n",
       "      <td>None</td>\n",
       "      <td>449703000</td>\n",
       "      <td>229818000</td>\n",
       "      <td>-1307000</td>\n",
       "      <td>None</td>\n",
       "      <td>325716000</td>\n",
       "      <td>I</td>\n",
       "    </tr>\n",
       "    <tr>\n",
       "      <td>1</td>\n",
       "      <td>2018-12-31</td>\n",
       "      <td>USD</td>\n",
       "      <td>-283634000</td>\n",
       "      <td>-32472000</td>\n",
       "      <td>-283634000</td>\n",
       "      <td>39159000</td>\n",
       "      <td>-196576000</td>\n",
       "      <td>-90323000</td>\n",
       "      <td>-121208000</td>\n",
       "      <td>18161000</td>\n",
       "      <td>...</td>\n",
       "      <td>0</td>\n",
       "      <td>227461000</td>\n",
       "      <td>None</td>\n",
       "      <td>None</td>\n",
       "      <td>285819000</td>\n",
       "      <td>255696000</td>\n",
       "      <td>None</td>\n",
       "      <td>None</td>\n",
       "      <td>None</td>\n",
       "      <td>I</td>\n",
       "    </tr>\n",
       "    <tr>\n",
       "      <td>2</td>\n",
       "      <td>2017-12-31</td>\n",
       "      <td>USD</td>\n",
       "      <td>-468297000</td>\n",
       "      <td>-176914000</td>\n",
       "      <td>-468297000</td>\n",
       "      <td>49788000</td>\n",
       "      <td>-196576000</td>\n",
       "      <td>-137858000</td>\n",
       "      <td>-122174000</td>\n",
       "      <td>11402000</td>\n",
       "      <td>...</td>\n",
       "      <td>0</td>\n",
       "      <td>476000</td>\n",
       "      <td>None</td>\n",
       "      <td>-14333000</td>\n",
       "      <td>66299000</td>\n",
       "      <td>461627000</td>\n",
       "      <td>None</td>\n",
       "      <td>None</td>\n",
       "      <td>None</td>\n",
       "      <td>I</td>\n",
       "    </tr>\n",
       "    <tr>\n",
       "      <td>3</td>\n",
       "      <td>2016-12-31</td>\n",
       "      <td>USD</td>\n",
       "      <td>-730589000</td>\n",
       "      <td>-22946000</td>\n",
       "      <td>-730589000</td>\n",
       "      <td>-1679000</td>\n",
       "      <td>938256000</td>\n",
       "      <td>541596000</td>\n",
       "      <td>-386950000</td>\n",
       "      <td>-25923000</td>\n",
       "      <td>...</td>\n",
       "      <td>-4959000</td>\n",
       "      <td>None</td>\n",
       "      <td>None</td>\n",
       "      <td>6478000</td>\n",
       "      <td>-988564000</td>\n",
       "      <td>714570000</td>\n",
       "      <td>None</td>\n",
       "      <td>None</td>\n",
       "      <td>None</td>\n",
       "      <td>I</td>\n",
       "    </tr>\n",
       "    <tr>\n",
       "      <td>4</td>\n",
       "      <td>2015-12-31</td>\n",
       "      <td>USD</td>\n",
       "      <td>-25000000</td>\n",
       "      <td>53347000</td>\n",
       "      <td>-749354000</td>\n",
       "      <td>8000</td>\n",
       "      <td>-66829000</td>\n",
       "      <td>-102986000</td>\n",
       "      <td>-26238000</td>\n",
       "      <td>-74600000</td>\n",
       "      <td>...</td>\n",
       "      <td>-9919000</td>\n",
       "      <td>None</td>\n",
       "      <td>None</td>\n",
       "      <td>-34642000</td>\n",
       "      <td>4181465000</td>\n",
       "      <td>724362000</td>\n",
       "      <td>None</td>\n",
       "      <td>None</td>\n",
       "      <td>None</td>\n",
       "      <td>I</td>\n",
       "    </tr>\n",
       "    <tr>\n",
       "      <td>0</td>\n",
       "      <td>2019-12-31</td>\n",
       "      <td>USD</td>\n",
       "      <td>-62220000</td>\n",
       "      <td>-36443000</td>\n",
       "      <td>-62220000</td>\n",
       "      <td>-8934000</td>\n",
       "      <td>-99377000</td>\n",
       "      <td>-191993000</td>\n",
       "      <td>-15217000</td>\n",
       "      <td>-24537000</td>\n",
       "      <td>...</td>\n",
       "      <td>-32544000</td>\n",
       "      <td>-44855000</td>\n",
       "      <td>11482000</td>\n",
       "      <td>29212000</td>\n",
       "      <td>7117000</td>\n",
       "      <td>53286000</td>\n",
       "      <td>29212000</td>\n",
       "      <td>None</td>\n",
       "      <td>-5912000</td>\n",
       "      <td>B</td>\n",
       "    </tr>\n",
       "    <tr>\n",
       "      <td>1</td>\n",
       "      <td>2018-12-31</td>\n",
       "      <td>USD</td>\n",
       "      <td>-493186000</td>\n",
       "      <td>13541000</td>\n",
       "      <td>-493186000</td>\n",
       "      <td>-435913000</td>\n",
       "      <td>401987000</td>\n",
       "      <td>215564000</td>\n",
       "      <td>-17073000</td>\n",
       "      <td>-1838000</td>\n",
       "      <td>...</td>\n",
       "      <td>-32206000</td>\n",
       "      <td>-137144000</td>\n",
       "      <td>-12369000</td>\n",
       "      <td>-10960000</td>\n",
       "      <td>-6647000</td>\n",
       "      <td>57300000</td>\n",
       "      <td>-10960000</td>\n",
       "      <td>-4148000</td>\n",
       "      <td>-44571000</td>\n",
       "      <td>B</td>\n",
       "    </tr>\n",
       "    <tr>\n",
       "      <td>2</td>\n",
       "      <td>2017-12-31</td>\n",
       "      <td>USD</td>\n",
       "      <td>-68040000</td>\n",
       "      <td>10108000</td>\n",
       "      <td>-68040000</td>\n",
       "      <td>-9328000</td>\n",
       "      <td>30653000</td>\n",
       "      <td>-63751000</td>\n",
       "      <td>-26470000</td>\n",
       "      <td>-6151000</td>\n",
       "      <td>...</td>\n",
       "      <td>-29551000</td>\n",
       "      <td>-38383000</td>\n",
       "      <td>-173000</td>\n",
       "      <td>-50082000</td>\n",
       "      <td>15622000</td>\n",
       "      <td>58712000</td>\n",
       "      <td>-50082000</td>\n",
       "      <td>6714000</td>\n",
       "      <td>78843000</td>\n",
       "      <td>B</td>\n",
       "    </tr>\n",
       "    <tr>\n",
       "      <td>3</td>\n",
       "      <td>2016-12-31</td>\n",
       "      <td>USD</td>\n",
       "      <td>-179510000</td>\n",
       "      <td>12111000</td>\n",
       "      <td>-179510000</td>\n",
       "      <td>-131933000</td>\n",
       "      <td>-9854000</td>\n",
       "      <td>-53312000</td>\n",
       "      <td>-114000</td>\n",
       "      <td>902000</td>\n",
       "      <td>...</td>\n",
       "      <td>-27435000</td>\n",
       "      <td>-15909000</td>\n",
       "      <td>1989000</td>\n",
       "      <td>-23057000</td>\n",
       "      <td>8934000</td>\n",
       "      <td>47600000</td>\n",
       "      <td>-23057000</td>\n",
       "      <td>-2303000</td>\n",
       "      <td>-17479000</td>\n",
       "      <td>B</td>\n",
       "    </tr>\n",
       "    <tr>\n",
       "      <td>4</td>\n",
       "      <td>2015-12-31</td>\n",
       "      <td>USD</td>\n",
       "      <td>None</td>\n",
       "      <td>-18688000</td>\n",
       "      <td>-115494000</td>\n",
       "      <td>-69512000</td>\n",
       "      <td>2746000</td>\n",
       "      <td>-51591000</td>\n",
       "      <td>12517000</td>\n",
       "      <td>-15730000</td>\n",
       "      <td>...</td>\n",
       "      <td>-26176000</td>\n",
       "      <td>-40678000</td>\n",
       "      <td>-1190000</td>\n",
       "      <td>14027000</td>\n",
       "      <td>6338000</td>\n",
       "      <td>45982000</td>\n",
       "      <td>14027000</td>\n",
       "      <td>-4923000</td>\n",
       "      <td>37887000</td>\n",
       "      <td>B</td>\n",
       "    </tr>\n",
       "    <tr>\n",
       "      <td>0</td>\n",
       "      <td>2020-02-29</td>\n",
       "      <td>USD</td>\n",
       "      <td>-1002000000</td>\n",
       "      <td>-277000000</td>\n",
       "      <td>-1002000000</td>\n",
       "      <td>-100000000</td>\n",
       "      <td>-662000000</td>\n",
       "      <td>-1123000000</td>\n",
       "      <td>-3000000</td>\n",
       "      <td>-300000000</td>\n",
       "      <td>...</td>\n",
       "      <td>-466000000</td>\n",
       "      <td>5000000</td>\n",
       "      <td>75000000</td>\n",
       "      <td>-9000000</td>\n",
       "      <td>282000000</td>\n",
       "      <td>902000000</td>\n",
       "      <td>-9000000</td>\n",
       "      <td>None</td>\n",
       "      <td>-517000000</td>\n",
       "      <td>M</td>\n",
       "    </tr>\n",
       "    <tr>\n",
       "      <td>1</td>\n",
       "      <td>2019-02-28</td>\n",
       "      <td>USD</td>\n",
       "      <td>-456000000</td>\n",
       "      <td>-37000000</td>\n",
       "      <td>-456000000</td>\n",
       "      <td>201000000</td>\n",
       "      <td>-1133000000</td>\n",
       "      <td>-1544000000</td>\n",
       "      <td>7000000</td>\n",
       "      <td>-121000000</td>\n",
       "      <td>...</td>\n",
       "      <td>-463000000</td>\n",
       "      <td>52000000</td>\n",
       "      <td>-87000000</td>\n",
       "      <td>-61000000</td>\n",
       "      <td>-78000000</td>\n",
       "      <td>657000000</td>\n",
       "      <td>-61000000</td>\n",
       "      <td>None</td>\n",
       "      <td>-265000000</td>\n",
       "      <td>M</td>\n",
       "    </tr>\n",
       "    <tr>\n",
       "      <td>2</td>\n",
       "      <td>2018-02-28</td>\n",
       "      <td>USD</td>\n",
       "      <td>-373000000</td>\n",
       "      <td>-131000000</td>\n",
       "      <td>-373000000</td>\n",
       "      <td>114000000</td>\n",
       "      <td>-970000000</td>\n",
       "      <td>-1413000000</td>\n",
       "      <td>13000000</td>\n",
       "      <td>-333000000</td>\n",
       "      <td>...</td>\n",
       "      <td>-461000000</td>\n",
       "      <td>18000000</td>\n",
       "      <td>221000000</td>\n",
       "      <td>120000000</td>\n",
       "      <td>-712000000</td>\n",
       "      <td>487000000</td>\n",
       "      <td>120000000</td>\n",
       "      <td>None</td>\n",
       "      <td>158000000</td>\n",
       "      <td>M</td>\n",
       "    </tr>\n",
       "    <tr>\n",
       "      <td>3</td>\n",
       "      <td>2017-02-28</td>\n",
       "      <td>USD</td>\n",
       "      <td>-187000000</td>\n",
       "      <td>-242000000</td>\n",
       "      <td>-187000000</td>\n",
       "      <td>409000000</td>\n",
       "      <td>-691000000</td>\n",
       "      <td>-1426000000</td>\n",
       "      <td>6000000</td>\n",
       "      <td>-256000000</td>\n",
       "      <td>...</td>\n",
       "      <td>-459000000</td>\n",
       "      <td>-276000000</td>\n",
       "      <td>107000000</td>\n",
       "      <td>-1000000</td>\n",
       "      <td>20000000</td>\n",
       "      <td>596000000</td>\n",
       "      <td>-1000000</td>\n",
       "      <td>None</td>\n",
       "      <td>188000000</td>\n",
       "      <td>M</td>\n",
       "    </tr>\n",
       "    <tr>\n",
       "      <td>4</td>\n",
       "      <td>2016-02-29</td>\n",
       "      <td>USD</td>\n",
       "      <td>None</td>\n",
       "      <td>-379000000</td>\n",
       "      <td>-1092000000</td>\n",
       "      <td>-315000000</td>\n",
       "      <td>260000000</td>\n",
       "      <td>-2029000000</td>\n",
       "      <td>1000000</td>\n",
       "      <td>-21000000</td>\n",
       "      <td>...</td>\n",
       "      <td>-456000000</td>\n",
       "      <td>-1833000000</td>\n",
       "      <td>-60000000</td>\n",
       "      <td>-45000000</td>\n",
       "      <td>64000000</td>\n",
       "      <td>777000000</td>\n",
       "      <td>-45000000</td>\n",
       "      <td>None</td>\n",
       "      <td>-1137000000</td>\n",
       "      <td>M</td>\n",
       "    </tr>\n",
       "  </tbody>\n",
       "</table>\n",
       "<p>15 rows × 25 columns</p>\n",
       "</div>"
      ],
      "text/plain": [
       "  fiscalDateEnding reportedCurrency  investments changeInLiabilities  \\\n",
       "0       2019-12-31              USD    -70751000            -4551000   \n",
       "1       2018-12-31              USD   -283634000           -32472000   \n",
       "2       2017-12-31              USD   -468297000          -176914000   \n",
       "3       2016-12-31              USD   -730589000           -22946000   \n",
       "4       2015-12-31              USD    -25000000            53347000   \n",
       "0       2019-12-31              USD    -62220000           -36443000   \n",
       "1       2018-12-31              USD   -493186000            13541000   \n",
       "2       2017-12-31              USD    -68040000            10108000   \n",
       "3       2016-12-31              USD   -179510000            12111000   \n",
       "4       2015-12-31              USD         None           -18688000   \n",
       "0       2020-02-29              USD  -1002000000          -277000000   \n",
       "1       2019-02-28              USD   -456000000           -37000000   \n",
       "2       2018-02-28              USD   -373000000          -131000000   \n",
       "3       2017-02-28              USD   -187000000          -242000000   \n",
       "4       2016-02-29              USD         None          -379000000   \n",
       "\n",
       "  cashflowFromInvestment otherCashflowFromInvestment netBorrowings  \\\n",
       "0             -292733000                     7836000     395350000   \n",
       "1             -283634000                    39159000    -196576000   \n",
       "2             -468297000                    49788000    -196576000   \n",
       "3             -730589000                    -1679000     938256000   \n",
       "4             -749354000                        8000     -66829000   \n",
       "0              -62220000                    -8934000     -99377000   \n",
       "1             -493186000                  -435913000     401987000   \n",
       "2              -68040000                    -9328000      30653000   \n",
       "3             -179510000                  -131933000      -9854000   \n",
       "4             -115494000                   -69512000       2746000   \n",
       "0            -1002000000                  -100000000    -662000000   \n",
       "1             -456000000                   201000000   -1133000000   \n",
       "2             -373000000                   114000000    -970000000   \n",
       "3             -187000000                   409000000    -691000000   \n",
       "4            -1092000000                  -315000000     260000000   \n",
       "\n",
       "  cashflowFromFinancing otherCashflowFromFinancing  \\\n",
       "0             362910000                  -27736000   \n",
       "1             -90323000                 -121208000   \n",
       "2            -137858000                 -122174000   \n",
       "3             541596000                 -386950000   \n",
       "4            -102986000                  -26238000   \n",
       "0            -191993000                  -15217000   \n",
       "1             215564000                  -17073000   \n",
       "2             -63751000                  -26470000   \n",
       "3             -53312000                    -114000   \n",
       "4             -51591000                   12517000   \n",
       "0           -1123000000                   -3000000   \n",
       "1           -1544000000                    7000000   \n",
       "2           -1413000000                   13000000   \n",
       "3           -1426000000                    6000000   \n",
       "4           -2029000000                    1000000   \n",
       "\n",
       "  changeInOperatingActivities  ... dividendPayout stockSaleAndPurchase  \\\n",
       "0                    18573000  ...       -5771000              1067000   \n",
       "1                    18161000  ...              0            227461000   \n",
       "2                    11402000  ...              0               476000   \n",
       "3                   -25923000  ...       -4959000                 None   \n",
       "4                   -74600000  ...       -9919000                 None   \n",
       "0                   -24537000  ...      -32544000            -44855000   \n",
       "1                    -1838000  ...      -32206000           -137144000   \n",
       "2                    -6151000  ...      -29551000            -38383000   \n",
       "3                      902000  ...      -27435000            -15909000   \n",
       "4                   -15730000  ...      -26176000            -40678000   \n",
       "0                  -300000000  ...     -466000000              5000000   \n",
       "1                  -121000000  ...     -463000000             52000000   \n",
       "2                  -333000000  ...     -461000000             18000000   \n",
       "3                  -256000000  ...     -459000000           -276000000   \n",
       "4                   -21000000  ...     -456000000          -1833000000   \n",
       "\n",
       "  changeInInventory changeInAccountReceivables changeInNetIncome  \\\n",
       "0              None                       None         449703000   \n",
       "1              None                       None         285819000   \n",
       "2              None                  -14333000          66299000   \n",
       "3              None                    6478000        -988564000   \n",
       "4              None                  -34642000        4181465000   \n",
       "0          11482000                   29212000           7117000   \n",
       "1         -12369000                  -10960000          -6647000   \n",
       "2           -173000                  -50082000          15622000   \n",
       "3           1989000                  -23057000           8934000   \n",
       "4          -1190000                   14027000           6338000   \n",
       "0          75000000                   -9000000         282000000   \n",
       "1         -87000000                  -61000000         -78000000   \n",
       "2         221000000                  120000000        -712000000   \n",
       "3         107000000                   -1000000          20000000   \n",
       "4         -60000000                  -45000000          64000000   \n",
       "\n",
       "  capitalExpenditures changeInReceivables changeInExchangeRate  \\\n",
       "0           229818000            -1307000                 None   \n",
       "1           255696000                None                 None   \n",
       "2           461627000                None                 None   \n",
       "3           714570000                None                 None   \n",
       "4           724362000                None                 None   \n",
       "0            53286000            29212000                 None   \n",
       "1            57300000           -10960000             -4148000   \n",
       "2            58712000           -50082000              6714000   \n",
       "3            47600000           -23057000             -2303000   \n",
       "4            45982000            14027000             -4923000   \n",
       "0           902000000            -9000000                 None   \n",
       "1           657000000           -61000000                 None   \n",
       "2           487000000           120000000                 None   \n",
       "3           596000000            -1000000                 None   \n",
       "4           777000000           -45000000                 None   \n",
       "\n",
       "  changeInCashAndCashEquivalents company name  \n",
       "0                      325716000            I  \n",
       "1                           None            I  \n",
       "2                           None            I  \n",
       "3                           None            I  \n",
       "4                           None            I  \n",
       "0                       -5912000            B  \n",
       "1                      -44571000            B  \n",
       "2                       78843000            B  \n",
       "3                      -17479000            B  \n",
       "4                       37887000            B  \n",
       "0                     -517000000            M  \n",
       "1                     -265000000            M  \n",
       "2                      158000000            M  \n",
       "3                      188000000            M  \n",
       "4                    -1137000000            M  \n",
       "\n",
       "[15 rows x 25 columns]"
      ]
     },
     "execution_count": 15,
     "metadata": {},
     "output_type": "execute_result"
    }
   ],
   "source": [
    "df_final1"
   ]
  },
  {
   "cell_type": "code",
   "execution_count": null,
   "metadata": {
    "colab": {
     "base_uri": "https://localhost:8080/",
     "height": 17
    },
    "colab_type": "code",
    "id": "jPOZF-msthXo",
    "outputId": "d66204a0-5368-4e54-a513-ce9745e0a48a"
   },
   "outputs": [
    {
     "data": {
      "application/javascript": [
       "\n",
       "    async function download(id, filename, size) {\n",
       "      if (!google.colab.kernel.accessAllowed) {\n",
       "        return;\n",
       "      }\n",
       "      const div = document.createElement('div');\n",
       "      const label = document.createElement('label');\n",
       "      label.textContent = `Downloading \"${filename}\": `;\n",
       "      div.appendChild(label);\n",
       "      const progress = document.createElement('progress');\n",
       "      progress.max = size;\n",
       "      div.appendChild(progress);\n",
       "      document.body.appendChild(div);\n",
       "\n",
       "      const buffers = [];\n",
       "      let downloaded = 0;\n",
       "\n",
       "      const channel = await google.colab.kernel.comms.open(id);\n",
       "      // Send a message to notify the kernel that we're ready.\n",
       "      channel.send({})\n",
       "\n",
       "      for await (const message of channel.messages) {\n",
       "        // Send a message to notify the kernel that we're ready.\n",
       "        channel.send({})\n",
       "        if (message.buffers) {\n",
       "          for (const buffer of message.buffers) {\n",
       "            buffers.push(buffer);\n",
       "            downloaded += buffer.byteLength;\n",
       "            progress.value = downloaded;\n",
       "          }\n",
       "        }\n",
       "      }\n",
       "      const blob = new Blob(buffers, {type: 'application/binary'});\n",
       "      const a = document.createElement('a');\n",
       "      a.href = window.URL.createObjectURL(blob);\n",
       "      a.download = filename;\n",
       "      div.appendChild(a);\n",
       "      a.click();\n",
       "      div.remove();\n",
       "    }\n",
       "  "
      ],
      "text/plain": [
       "<IPython.core.display.Javascript object>"
      ]
     },
     "metadata": {
      "tags": []
     },
     "output_type": "display_data"
    },
    {
     "data": {
      "application/javascript": [
       "download(\"download_b17e97cd-8754-4614-8484-97dfed60c900\", \"left_cash_batch8.csv\", 183947)"
      ],
      "text/plain": [
       "<IPython.core.display.Javascript object>"
      ]
     },
     "metadata": {
      "tags": []
     },
     "output_type": "display_data"
    }
   ],
   "source": [
    "df_final1.to_csv('left_cash_batch8.csv')\n",
    "\n",
    "\n",
    "from google.colab import files\n",
    "files.download(\"left_cash_batch8.csv\")"
   ]
  },
  {
   "cell_type": "code",
   "execution_count": null,
   "metadata": {
    "colab": {
     "base_uri": "https://localhost:8080/",
     "height": 72,
     "resources": {
      "http://localhost:8080/nbextensions/google.colab/files.js": {
       "data": "Ly8gQ29weXJpZ2h0IDIwMTcgR29vZ2xlIExMQwovLwovLyBMaWNlbnNlZCB1bmRlciB0aGUgQXBhY2hlIExpY2Vuc2UsIFZlcnNpb24gMi4wICh0aGUgIkxpY2Vuc2UiKTsKLy8geW91IG1heSBub3QgdXNlIHRoaXMgZmlsZSBleGNlcHQgaW4gY29tcGxpYW5jZSB3aXRoIHRoZSBMaWNlbnNlLgovLyBZb3UgbWF5IG9idGFpbiBhIGNvcHkgb2YgdGhlIExpY2Vuc2UgYXQKLy8KLy8gICAgICBodHRwOi8vd3d3LmFwYWNoZS5vcmcvbGljZW5zZXMvTElDRU5TRS0yLjAKLy8KLy8gVW5sZXNzIHJlcXVpcmVkIGJ5IGFwcGxpY2FibGUgbGF3IG9yIGFncmVlZCB0byBpbiB3cml0aW5nLCBzb2Z0d2FyZQovLyBkaXN0cmlidXRlZCB1bmRlciB0aGUgTGljZW5zZSBpcyBkaXN0cmlidXRlZCBvbiBhbiAiQVMgSVMiIEJBU0lTLAovLyBXSVRIT1VUIFdBUlJBTlRJRVMgT1IgQ09ORElUSU9OUyBPRiBBTlkgS0lORCwgZWl0aGVyIGV4cHJlc3Mgb3IgaW1wbGllZC4KLy8gU2VlIHRoZSBMaWNlbnNlIGZvciB0aGUgc3BlY2lmaWMgbGFuZ3VhZ2UgZ292ZXJuaW5nIHBlcm1pc3Npb25zIGFuZAovLyBsaW1pdGF0aW9ucyB1bmRlciB0aGUgTGljZW5zZS4KCi8qKgogKiBAZmlsZW92ZXJ2aWV3IEhlbHBlcnMgZm9yIGdvb2dsZS5jb2xhYiBQeXRob24gbW9kdWxlLgogKi8KKGZ1bmN0aW9uKHNjb3BlKSB7CmZ1bmN0aW9uIHNwYW4odGV4dCwgc3R5bGVBdHRyaWJ1dGVzID0ge30pIHsKICBjb25zdCBlbGVtZW50ID0gZG9jdW1lbnQuY3JlYXRlRWxlbWVudCgnc3BhbicpOwogIGVsZW1lbnQudGV4dENvbnRlbnQgPSB0ZXh0OwogIGZvciAoY29uc3Qga2V5IG9mIE9iamVjdC5rZXlzKHN0eWxlQXR0cmlidXRlcykpIHsKICAgIGVsZW1lbnQuc3R5bGVba2V5XSA9IHN0eWxlQXR0cmlidXRlc1trZXldOwogIH0KICByZXR1cm4gZWxlbWVudDsKfQoKLy8gTWF4IG51bWJlciBvZiBieXRlcyB3aGljaCB3aWxsIGJlIHVwbG9hZGVkIGF0IGEgdGltZS4KY29uc3QgTUFYX1BBWUxPQURfU0laRSA9IDEwMCAqIDEwMjQ7CgpmdW5jdGlvbiBfdXBsb2FkRmlsZXMoaW5wdXRJZCwgb3V0cHV0SWQpIHsKICBjb25zdCBzdGVwcyA9IHVwbG9hZEZpbGVzU3RlcChpbnB1dElkLCBvdXRwdXRJZCk7CiAgY29uc3Qgb3V0cHV0RWxlbWVudCA9IGRvY3VtZW50LmdldEVsZW1lbnRCeUlkKG91dHB1dElkKTsKICAvLyBDYWNoZSBzdGVwcyBvbiB0aGUgb3V0cHV0RWxlbWVudCB0byBtYWtlIGl0IGF2YWlsYWJsZSBmb3IgdGhlIG5leHQgY2FsbAogIC8vIHRvIHVwbG9hZEZpbGVzQ29udGludWUgZnJvbSBQeXRob24uCiAgb3V0cHV0RWxlbWVudC5zdGVwcyA9IHN0ZXBzOwoKICByZXR1cm4gX3VwbG9hZEZpbGVzQ29udGludWUob3V0cHV0SWQpOwp9CgovLyBUaGlzIGlzIHJvdWdobHkgYW4gYXN5bmMgZ2VuZXJhdG9yIChub3Qgc3VwcG9ydGVkIGluIHRoZSBicm93c2VyIHlldCksCi8vIHdoZXJlIHRoZXJlIGFyZSBtdWx0aXBsZSBhc3luY2hyb25vdXMgc3RlcHMgYW5kIHRoZSBQeXRob24gc2lkZSBpcyBnb2luZwovLyB0byBwb2xsIGZvciBjb21wbGV0aW9uIG9mIGVhY2ggc3RlcC4KLy8gVGhpcyB1c2VzIGEgUHJvbWlzZSB0byBibG9jayB0aGUgcHl0aG9uIHNpZGUgb24gY29tcGxldGlvbiBvZiBlYWNoIHN0ZXAsCi8vIHRoZW4gcGFzc2VzIHRoZSByZXN1bHQgb2YgdGhlIHByZXZpb3VzIHN0ZXAgYXMgdGhlIGlucHV0IHRvIHRoZSBuZXh0IHN0ZXAuCmZ1bmN0aW9uIF91cGxvYWRGaWxlc0NvbnRpbnVlKG91dHB1dElkKSB7CiAgY29uc3Qgb3V0cHV0RWxlbWVudCA9IGRvY3VtZW50LmdldEVsZW1lbnRCeUlkKG91dHB1dElkKTsKICBjb25zdCBzdGVwcyA9IG91dHB1dEVsZW1lbnQuc3RlcHM7CgogIGNvbnN0IG5leHQgPSBzdGVwcy5uZXh0KG91dHB1dEVsZW1lbnQubGFzdFByb21pc2VWYWx1ZSk7CiAgcmV0dXJuIFByb21pc2UucmVzb2x2ZShuZXh0LnZhbHVlLnByb21pc2UpLnRoZW4oKHZhbHVlKSA9PiB7CiAgICAvLyBDYWNoZSB0aGUgbGFzdCBwcm9taXNlIHZhbHVlIHRvIG1ha2UgaXQgYXZhaWxhYmxlIHRvIHRoZSBuZXh0CiAgICAvLyBzdGVwIG9mIHRoZSBnZW5lcmF0b3IuCiAgICBvdXRwdXRFbGVtZW50Lmxhc3RQcm9taXNlVmFsdWUgPSB2YWx1ZTsKICAgIHJldHVybiBuZXh0LnZhbHVlLnJlc3BvbnNlOwogIH0pOwp9CgovKioKICogR2VuZXJhdG9yIGZ1bmN0aW9uIHdoaWNoIGlzIGNhbGxlZCBiZXR3ZWVuIGVhY2ggYXN5bmMgc3RlcCBvZiB0aGUgdXBsb2FkCiAqIHByb2Nlc3MuCiAqIEBwYXJhbSB7c3RyaW5nfSBpbnB1dElkIEVsZW1lbnQgSUQgb2YgdGhlIGlucHV0IGZpbGUgcGlja2VyIGVsZW1lbnQuCiAqIEBwYXJhbSB7c3RyaW5nfSBvdXRwdXRJZCBFbGVtZW50IElEIG9mIHRoZSBvdXRwdXQgZGlzcGxheS4KICogQHJldHVybiB7IUl0ZXJhYmxlPCFPYmplY3Q+fSBJdGVyYWJsZSBvZiBuZXh0IHN0ZXBzLgogKi8KZnVuY3Rpb24qIHVwbG9hZEZpbGVzU3RlcChpbnB1dElkLCBvdXRwdXRJZCkgewogIGNvbnN0IGlucHV0RWxlbWVudCA9IGRvY3VtZW50LmdldEVsZW1lbnRCeUlkKGlucHV0SWQpOwogIGlucHV0RWxlbWVudC5kaXNhYmxlZCA9IGZhbHNlOwoKICBjb25zdCBvdXRwdXRFbGVtZW50ID0gZG9jdW1lbnQuZ2V0RWxlbWVudEJ5SWQob3V0cHV0SWQpOwogIG91dHB1dEVsZW1lbnQuaW5uZXJIVE1MID0gJyc7CgogIGNvbnN0IHBpY2tlZFByb21pc2UgPSBuZXcgUHJvbWlzZSgocmVzb2x2ZSkgPT4gewogICAgaW5wdXRFbGVtZW50LmFkZEV2ZW50TGlzdGVuZXIoJ2NoYW5nZScsIChlKSA9PiB7CiAgICAgIHJlc29sdmUoZS50YXJnZXQuZmlsZXMpOwogICAgfSk7CiAgfSk7CgogIGNvbnN0IGNhbmNlbCA9IGRvY3VtZW50LmNyZWF0ZUVsZW1lbnQoJ2J1dHRvbicpOwogIGlucHV0RWxlbWVudC5wYXJlbnRFbGVtZW50LmFwcGVuZENoaWxkKGNhbmNlbCk7CiAgY2FuY2VsLnRleHRDb250ZW50ID0gJ0NhbmNlbCB1cGxvYWQnOwogIGNvbnN0IGNhbmNlbFByb21pc2UgPSBuZXcgUHJvbWlzZSgocmVzb2x2ZSkgPT4gewogICAgY2FuY2VsLm9uY2xpY2sgPSAoKSA9PiB7CiAgICAgIHJlc29sdmUobnVsbCk7CiAgICB9OwogIH0pOwoKICAvLyBXYWl0IGZvciB0aGUgdXNlciB0byBwaWNrIHRoZSBmaWxlcy4KICBjb25zdCBmaWxlcyA9IHlpZWxkIHsKICAgIHByb21pc2U6IFByb21pc2UucmFjZShbcGlja2VkUHJvbWlzZSwgY2FuY2VsUHJvbWlzZV0pLAogICAgcmVzcG9uc2U6IHsKICAgICAgYWN0aW9uOiAnc3RhcnRpbmcnLAogICAgfQogIH07CgogIGNhbmNlbC5yZW1vdmUoKTsKCiAgLy8gRGlzYWJsZSB0aGUgaW5wdXQgZWxlbWVudCBzaW5jZSBmdXJ0aGVyIHBpY2tzIGFyZSBub3QgYWxsb3dlZC4KICBpbnB1dEVsZW1lbnQuZGlzYWJsZWQgPSB0cnVlOwoKICBpZiAoIWZpbGVzKSB7CiAgICByZXR1cm4gewogICAgICByZXNwb25zZTogewogICAgICAgIGFjdGlvbjogJ2NvbXBsZXRlJywKICAgICAgfQogICAgfTsKICB9CgogIGZvciAoY29uc3QgZmlsZSBvZiBmaWxlcykgewogICAgY29uc3QgbGkgPSBkb2N1bWVudC5jcmVhdGVFbGVtZW50KCdsaScpOwogICAgbGkuYXBwZW5kKHNwYW4oZmlsZS5uYW1lLCB7Zm9udFdlaWdodDogJ2JvbGQnfSkpOwogICAgbGkuYXBwZW5kKHNwYW4oCiAgICAgICAgYCgke2ZpbGUudHlwZSB8fCAnbi9hJ30pIC0gJHtmaWxlLnNpemV9IGJ5dGVzLCBgICsKICAgICAgICBgbGFzdCBtb2RpZmllZDogJHsKICAgICAgICAgICAgZmlsZS5sYXN0TW9kaWZpZWREYXRlID8gZmlsZS5sYXN0TW9kaWZpZWREYXRlLnRvTG9jYWxlRGF0ZVN0cmluZygpIDoKICAgICAgICAgICAgICAgICAgICAgICAgICAgICAgICAgICAgJ24vYSd9IC0gYCkpOwogICAgY29uc3QgcGVyY2VudCA9IHNwYW4oJzAlIGRvbmUnKTsKICAgIGxpLmFwcGVuZENoaWxkKHBlcmNlbnQpOwoKICAgIG91dHB1dEVsZW1lbnQuYXBwZW5kQ2hpbGQobGkpOwoKICAgIGNvbnN0IGZpbGVEYXRhUHJvbWlzZSA9IG5ldyBQcm9taXNlKChyZXNvbHZlKSA9PiB7CiAgICAgIGNvbnN0IHJlYWRlciA9IG5ldyBGaWxlUmVhZGVyKCk7CiAgICAgIHJlYWRlci5vbmxvYWQgPSAoZSkgPT4gewogICAgICAgIHJlc29sdmUoZS50YXJnZXQucmVzdWx0KTsKICAgICAgfTsKICAgICAgcmVhZGVyLnJlYWRBc0FycmF5QnVmZmVyKGZpbGUpOwogICAgfSk7CiAgICAvLyBXYWl0IGZvciB0aGUgZGF0YSB0byBiZSByZWFkeS4KICAgIGxldCBmaWxlRGF0YSA9IHlpZWxkIHsKICAgICAgcHJvbWlzZTogZmlsZURhdGFQcm9taXNlLAogICAgICByZXNwb25zZTogewogICAgICAgIGFjdGlvbjogJ2NvbnRpbnVlJywKICAgICAgfQogICAgfTsKCiAgICAvLyBVc2UgYSBjaHVua2VkIHNlbmRpbmcgdG8gYXZvaWQgbWVzc2FnZSBzaXplIGxpbWl0cy4gU2VlIGIvNjIxMTU2NjAuCiAgICBsZXQgcG9zaXRpb24gPSAwOwogICAgd2hpbGUgKHBvc2l0aW9uIDwgZmlsZURhdGEuYnl0ZUxlbmd0aCkgewogICAgICBjb25zdCBsZW5ndGggPSBNYXRoLm1pbihmaWxlRGF0YS5ieXRlTGVuZ3RoIC0gcG9zaXRpb24sIE1BWF9QQVlMT0FEX1NJWkUpOwogICAgICBjb25zdCBjaHVuayA9IG5ldyBVaW50OEFycmF5KGZpbGVEYXRhLCBwb3NpdGlvbiwgbGVuZ3RoKTsKICAgICAgcG9zaXRpb24gKz0gbGVuZ3RoOwoKICAgICAgY29uc3QgYmFzZTY0ID0gYnRvYShTdHJpbmcuZnJvbUNoYXJDb2RlLmFwcGx5KG51bGwsIGNodW5rKSk7CiAgICAgIHlpZWxkIHsKICAgICAgICByZXNwb25zZTogewogICAgICAgICAgYWN0aW9uOiAnYXBwZW5kJywKICAgICAgICAgIGZpbGU6IGZpbGUubmFtZSwKICAgICAgICAgIGRhdGE6IGJhc2U2NCwKICAgICAgICB9LAogICAgICB9OwogICAgICBwZXJjZW50LnRleHRDb250ZW50ID0KICAgICAgICAgIGAke01hdGgucm91bmQoKHBvc2l0aW9uIC8gZmlsZURhdGEuYnl0ZUxlbmd0aCkgKiAxMDApfSUgZG9uZWA7CiAgICB9CiAgfQoKICAvLyBBbGwgZG9uZS4KICB5aWVsZCB7CiAgICByZXNwb25zZTogewogICAgICBhY3Rpb246ICdjb21wbGV0ZScsCiAgICB9CiAgfTsKfQoKc2NvcGUuZ29vZ2xlID0gc2NvcGUuZ29vZ2xlIHx8IHt9OwpzY29wZS5nb29nbGUuY29sYWIgPSBzY29wZS5nb29nbGUuY29sYWIgfHwge307CnNjb3BlLmdvb2dsZS5jb2xhYi5fZmlsZXMgPSB7CiAgX3VwbG9hZEZpbGVzLAogIF91cGxvYWRGaWxlc0NvbnRpbnVlLAp9Owp9KShzZWxmKTsK",
       "headers": [
        [
         "content-type",
         "application/javascript"
        ]
       ],
       "ok": true,
       "status": 200,
       "status_text": ""
      }
     }
    },
    "colab_type": "code",
    "id": "wOsCBRNatiVK",
    "outputId": "7bbc0511-1d5b-423b-9413-eba41ea08749"
   },
   "outputs": [
    {
     "data": {
      "text/html": [
       "\n",
       "     <input type=\"file\" id=\"files-422e86e9-969d-4e10-9182-4e673e3823b2\" name=\"files[]\" multiple disabled\n",
       "        style=\"border:none\" />\n",
       "     <output id=\"result-422e86e9-969d-4e10-9182-4e673e3823b2\">\n",
       "      Upload widget is only available when the cell has been executed in the\n",
       "      current browser session. Please rerun this cell to enable.\n",
       "      </output>\n",
       "      <script src=\"/nbextensions/google.colab/files.js\"></script> "
      ],
      "text/plain": [
       "<IPython.core.display.HTML object>"
      ]
     },
     "metadata": {
      "tags": []
     },
     "output_type": "display_data"
    },
    {
     "name": "stdout",
     "output_type": "stream",
     "text": [
      "Saving list_cash_flow_left.csv to list_cash_flow_left.csv\n"
     ]
    }
   ],
   "source": [
    "from google.colab import files\n",
    "uploaded = files.upload()"
   ]
  },
  {
   "cell_type": "code",
   "execution_count": null,
   "metadata": {
    "colab": {},
    "colab_type": "code",
    "id": "rdIrfq7S5h4E"
   },
   "outputs": [],
   "source": []
  },
  {
   "cell_type": "code",
   "execution_count": null,
   "metadata": {
    "colab": {},
    "colab_type": "code",
    "id": "C-rEmYlstl0d"
   },
   "outputs": [],
   "source": [
    "import pandas as pd\n",
    "import io\n",
    "df_left = pd.read_csv(io.BytesIO(uploaded['list_cash_flow_left.csv']))"
   ]
  },
  {
   "cell_type": "code",
   "execution_count": null,
   "metadata": {
    "colab": {},
    "colab_type": "code",
    "id": "vJyc6qdl5i-M"
   },
   "outputs": [],
   "source": []
  },
  {
   "cell_type": "code",
   "execution_count": null,
   "metadata": {
    "colab": {},
    "colab_type": "code",
    "id": "Jckzes1mtrH0"
   },
   "outputs": [],
   "source": [
    "list_left=list(df_left['0'])"
   ]
  },
  {
   "cell_type": "code",
   "execution_count": null,
   "metadata": {
    "colab": {
     "base_uri": "https://localhost:8080/",
     "height": 34
    },
    "colab_type": "code",
    "id": "WUJxl3-ctt95",
    "outputId": "123f9631-4ec6-4a3d-bc5c-6bb5d42a2374"
   },
   "outputs": [
    {
     "data": {
      "text/plain": [
       "2512"
      ]
     },
     "execution_count": 7,
     "metadata": {
      "tags": []
     },
     "output_type": "execute_result"
    }
   ],
   "source": [
    "len(list_left)"
   ]
  },
  {
   "cell_type": "code",
   "execution_count": null,
   "metadata": {
    "colab": {
     "base_uri": "https://localhost:8080/",
     "height": 34
    },
    "colab_type": "code",
    "id": "g9ZJEkELB02n",
    "outputId": "a27e6553-42ae-4d2a-cc69-613774eb73ee"
   },
   "outputs": [
    {
     "data": {
      "text/plain": [
       "1909"
      ]
     },
     "execution_count": 55,
     "metadata": {
      "tags": []
     },
     "output_type": "execute_result"
    }
   ],
   "source": [
    "list_left.index(\"NFBK\")"
   ]
  },
  {
   "cell_type": "code",
   "execution_count": null,
   "metadata": {
    "colab": {
     "base_uri": "https://localhost:8080/",
     "height": 34
    },
    "colab_type": "code",
    "id": "zSWXxZaUu8X9",
    "outputId": "92493f89-4b95-40b9-ba12-0c78045bf995"
   },
   "outputs": [
    {
     "data": {
      "text/plain": [
       "540"
      ]
     },
     "execution_count": 13,
     "metadata": {
      "tags": []
     },
     "output_type": "execute_result"
    }
   ],
   "source": [
    "list_revenue_null.index('EEQ')"
   ]
  },
  {
   "cell_type": "code",
   "execution_count": null,
   "metadata": {
    "colab": {},
    "colab_type": "code",
    "id": "7lXXhix3J5IO"
   },
   "outputs": [],
   "source": [
    "list_left_total=list_left[1910:]"
   ]
  },
  {
   "cell_type": "code",
   "execution_count": null,
   "metadata": {
    "colab": {},
    "colab_type": "code",
    "id": "r2ngPL8PFVzz"
   },
   "outputs": [],
   "source": [
    "list_left_alok3=list_left_total[:200]\n",
    "list_left_alok2=list_left_total[200:400]\n",
    "list_left_alok=list_left_total[400:]"
   ]
  },
  {
   "cell_type": "code",
   "execution_count": null,
   "metadata": {
    "colab": {},
    "colab_type": "code",
    "id": "B0M8d657F-ay"
   },
   "outputs": [],
   "source": [
    "pd.DataFrame(list_left_poonam).to_csv('alok2.csv')\n",
    "pd.DataFrame(list_left_ashish).to_csv('alok.csv')"
   ]
  },
  {
   "cell_type": "code",
   "execution_count": null,
   "metadata": {
    "colab": {
     "base_uri": "https://localhost:8080/",
     "height": 17
    },
    "colab_type": "code",
    "id": "-T6EU2iFGT1S",
    "outputId": "cc9a938b-2e59-4ef9-8704-a6abeea31b78"
   },
   "outputs": [
    {
     "data": {
      "application/javascript": [
       "\n",
       "    async function download(id, filename, size) {\n",
       "      if (!google.colab.kernel.accessAllowed) {\n",
       "        return;\n",
       "      }\n",
       "      const div = document.createElement('div');\n",
       "      const label = document.createElement('label');\n",
       "      label.textContent = `Downloading \"${filename}\": `;\n",
       "      div.appendChild(label);\n",
       "      const progress = document.createElement('progress');\n",
       "      progress.max = size;\n",
       "      div.appendChild(progress);\n",
       "      document.body.appendChild(div);\n",
       "\n",
       "      const buffers = [];\n",
       "      let downloaded = 0;\n",
       "\n",
       "      const channel = await google.colab.kernel.comms.open(id);\n",
       "      // Send a message to notify the kernel that we're ready.\n",
       "      channel.send({})\n",
       "\n",
       "      for await (const message of channel.messages) {\n",
       "        // Send a message to notify the kernel that we're ready.\n",
       "        channel.send({})\n",
       "        if (message.buffers) {\n",
       "          for (const buffer of message.buffers) {\n",
       "            buffers.push(buffer);\n",
       "            downloaded += buffer.byteLength;\n",
       "            progress.value = downloaded;\n",
       "          }\n",
       "        }\n",
       "      }\n",
       "      const blob = new Blob(buffers, {type: 'application/binary'});\n",
       "      const a = document.createElement('a');\n",
       "      a.href = window.URL.createObjectURL(blob);\n",
       "      a.download = filename;\n",
       "      div.appendChild(a);\n",
       "      a.click();\n",
       "      div.remove();\n",
       "    }\n",
       "  "
      ],
      "text/plain": [
       "<IPython.core.display.Javascript object>"
      ]
     },
     "metadata": {
      "tags": []
     },
     "output_type": "display_data"
    },
    {
     "data": {
      "application/javascript": [
       "download(\"download_4337407e-ce99-46a8-9a92-e8e681fb8195\", \"ashish.csv\", 1616)"
      ],
      "text/plain": [
       "<IPython.core.display.Javascript object>"
      ]
     },
     "metadata": {
      "tags": []
     },
     "output_type": "display_data"
    }
   ],
   "source": [
    "files.download(\"alok.csv\")"
   ]
  },
  {
   "cell_type": "code",
   "execution_count": null,
   "metadata": {
    "colab": {
     "base_uri": "https://localhost:8080/",
     "height": 17
    },
    "colab_type": "code",
    "id": "yNgdN5XSGU1G",
    "outputId": "56c721dd-bfaa-48fc-de13-597b5609f7b4"
   },
   "outputs": [
    {
     "data": {
      "application/javascript": [
       "\n",
       "    async function download(id, filename, size) {\n",
       "      if (!google.colab.kernel.accessAllowed) {\n",
       "        return;\n",
       "      }\n",
       "      const div = document.createElement('div');\n",
       "      const label = document.createElement('label');\n",
       "      label.textContent = `Downloading \"${filename}\": `;\n",
       "      div.appendChild(label);\n",
       "      const progress = document.createElement('progress');\n",
       "      progress.max = size;\n",
       "      div.appendChild(progress);\n",
       "      document.body.appendChild(div);\n",
       "\n",
       "      const buffers = [];\n",
       "      let downloaded = 0;\n",
       "\n",
       "      const channel = await google.colab.kernel.comms.open(id);\n",
       "      // Send a message to notify the kernel that we're ready.\n",
       "      channel.send({})\n",
       "\n",
       "      for await (const message of channel.messages) {\n",
       "        // Send a message to notify the kernel that we're ready.\n",
       "        channel.send({})\n",
       "        if (message.buffers) {\n",
       "          for (const buffer of message.buffers) {\n",
       "            buffers.push(buffer);\n",
       "            downloaded += buffer.byteLength;\n",
       "            progress.value = downloaded;\n",
       "          }\n",
       "        }\n",
       "      }\n",
       "      const blob = new Blob(buffers, {type: 'application/binary'});\n",
       "      const a = document.createElement('a');\n",
       "      a.href = window.URL.createObjectURL(blob);\n",
       "      a.download = filename;\n",
       "      div.appendChild(a);\n",
       "      a.click();\n",
       "      div.remove();\n",
       "    }\n",
       "  "
      ],
      "text/plain": [
       "<IPython.core.display.Javascript object>"
      ]
     },
     "metadata": {
      "tags": []
     },
     "output_type": "display_data"
    },
    {
     "data": {
      "application/javascript": [
       "download(\"download_b323c3bc-d005-4abf-a749-dc5e6a436ac4\", \"poonam.csv\", 1604)"
      ],
      "text/plain": [
       "<IPython.core.display.Javascript object>"
      ]
     },
     "metadata": {
      "tags": []
     },
     "output_type": "display_data"
    }
   ],
   "source": [
    "files.download(\"alok2.csv\")"
   ]
  },
  {
   "cell_type": "code",
   "execution_count": null,
   "metadata": {
    "colab": {},
    "colab_type": "code",
    "id": "K1h0pUvsGO3r"
   },
   "outputs": [],
   "source": []
  },
  {
   "cell_type": "code",
   "execution_count": null,
   "metadata": {
    "colab": {
     "base_uri": "https://localhost:8080/",
     "height": 34
    },
    "colab_type": "code",
    "id": "BFdZsHakVdm_",
    "outputId": "77964307-ae76-42b6-9375-9410994a28c3"
   },
   "outputs": [
    {
     "data": {
      "text/plain": [
       "1213"
      ]
     },
     "execution_count": 50,
     "metadata": {
      "tags": []
     },
     "output_type": "execute_result"
    }
   ],
   "source": [
    "len(list_left_batch7)"
   ]
  },
  {
   "cell_type": "code",
   "execution_count": null,
   "metadata": {
    "colab": {},
    "colab_type": "code",
    "id": "6DVdeOpAF9Uh"
   },
   "outputs": [],
   "source": []
  },
  {
   "cell_type": "code",
   "execution_count": null,
   "metadata": {
    "colab": {},
    "colab_type": "code",
    "id": "FMX-7Y1QViS7"
   },
   "outputs": [],
   "source": []
  }
 ],
 "metadata": {
  "colab": {
   "collapsed_sections": [],
   "name": "alpha vijay.ipynb",
   "provenance": []
  },
  "kernelspec": {
   "display_name": "Python 3",
   "language": "python",
   "name": "python3"
  },
  "language_info": {
   "codemirror_mode": {
    "name": "ipython",
    "version": 3
   },
   "file_extension": ".py",
   "mimetype": "text/x-python",
   "name": "python",
   "nbconvert_exporter": "python",
   "pygments_lexer": "ipython3",
   "version": "3.8.3"
  }
 },
 "nbformat": 4,
 "nbformat_minor": 1
}
