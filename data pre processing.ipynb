{
 "cells": [
  {
   "cell_type": "code",
   "execution_count": null,
   "metadata": {},
   "outputs": [],
   "source": [
    "!pip install pyod"
   ]
  },
  {
   "cell_type": "markdown",
   "metadata": {},
   "source": [
    "# Step 1: Outlier Treatment"
   ]
  },
  {
   "cell_type": "markdown",
   "metadata": {},
   "source": [
    "## 1. Outlier Detection using pyOD"
   ]
  },
  {
   "cell_type": "code",
   "execution_count": 1051,
   "metadata": {},
   "outputs": [],
   "source": [
    "import pandas as pd\n",
    "import numpy as np\n",
    "\n",
    "from pyod.models.abod import ABOD\n",
    "from pyod.models.cblof import CBLOF\n",
    "from pyod.models.feature_bagging import FeatureBagging\n",
    "from pyod.models.hbos import HBOS\n",
    "from pyod.models.iforest import IForest\n",
    "from pyod.models.knn import KNN\n",
    "from pyod.models.lof import LOF\n",
    "\n",
    "from sklearn.preprocessing import MinMaxScaler\n",
    "\n"
   ]
  },
  {
   "cell_type": "code",
   "execution_count": 1052,
   "metadata": {},
   "outputs": [],
   "source": [
    "df=pd.read_csv(\"null from alpha vantage/final_result_after_kmeans.csv\")\n",
    "df.drop(['Unnamed: 0','Unnamed: 0.1'],axis=1,inplace=True)"
   ]
  },
  {
   "cell_type": "code",
   "execution_count": 1053,
   "metadata": {},
   "outputs": [],
   "source": [
    "random_state=3\n",
    "outliers_fraction = 0.05\n"
   ]
  },
  {
   "cell_type": "code",
   "execution_count": null,
   "metadata": {},
   "outputs": [],
   "source": [
    "Angle-based Outlier Detector (ABOD)\n",
    "Cluster-based Local Outlier Factor (CBLOF)\n",
    "Histogram-base Outlier Detection (HBOS)"
   ]
  },
  {
   "cell_type": "code",
   "execution_count": 1054,
   "metadata": {},
   "outputs": [],
   "source": [
    "classifiers = {\n",
    "        'ABOD': ABOD(contamination=outliers_fraction),\n",
    "        'CBLOF':CBLOF(contamination=outliers_fraction,check_estimator=False, random_state=random_state),\n",
    "        'Feature Bagging':FeatureBagging(LOF(n_neighbors=35),contamination=outliers_fraction,check_estimator=False,random_state=random_state),\n",
    "        'HBOS': HBOS(contamination=outliers_fraction),\n",
    "        'Isolation Forest': IForest(contamination=outliers_fraction,random_state=random_state),\n",
    "        'KNN': KNN(contamination=outliers_fraction),\n",
    "        'Average KNN': KNN(method='mean',contamination=outliers_fraction)\n",
    "}"
   ]
  },
  {
   "cell_type": "code",
   "execution_count": 29,
   "metadata": {},
   "outputs": [
    {
     "name": "stderr",
     "output_type": "stream",
     "text": [
      "/opt/anaconda3/lib/python3.7/site-packages/sklearn/cluster/_kmeans.py:939: FutureWarning: 'n_jobs' was deprecated in version 0.23 and will be removed in 0.25.\n",
      "  \" removed in 0.25.\", FutureWarning)\n"
     ]
    }
   ],
   "source": [
    "outliers_fraction = 0.1\n",
    "\n",
    "num_cols=df.select_dtypes(include=['float64','int64']).columns\n",
    "num_cols=num_cols[0:177]\n",
    "df_num=df[num_cols]\n",
    "cols=df_num.columns\n",
    "\n",
    "scaler = MinMaxScaler(feature_range=(0, 1))\n",
    "df_num = scaler.fit_transform(df_num)\n",
    "\n",
    "df_num=pd.DataFrame(df_num)\n",
    "df_num.columns=cols\n",
    "\n",
    "for i, (clf_name, clf) in enumerate(classifiers.items()):\n",
    "   \n",
    "\n",
    "    clf.fit(df_num)\n",
    "\n",
    "    y_train_scores = clf.decision_scores_ \n",
    "    y_train_pred = clf.labels_\n",
    "\n",
    "    df['Outliers'+' ' +clf_name]=y_train_pred\n",
    "\n",
    "\n",
    "  \n",
    "\n",
    "\n"
   ]
  },
  {
   "cell_type": "code",
   "execution_count": 33,
   "metadata": {},
   "outputs": [],
   "source": [
    "df['sum_outlier']=df['Outliers ABOD']+df['Outliers CBLOF']+df['Outliers Feature Bagging']+df['Outliers HBOS']+df['Outliers Isolation Forest']+df['Outliers KNN']+df['Outliers Average KNN']\n",
    "\n",
    "\n",
    "    "
   ]
  },
  {
   "cell_type": "code",
   "execution_count": 71,
   "metadata": {},
   "outputs": [],
   "source": [
    "df_outlier_removed=df[df['sum_outlier']<5]"
   ]
  },
  {
   "cell_type": "code",
   "execution_count": 72,
   "metadata": {},
   "outputs": [],
   "source": [
    "df_outlier_removed.drop(['Outliers ABOD','Outliers CBLOF','Outliers Feature Bagging','Outliers HBOS'\n",
    "                        , 'Outliers Isolation Forest','Outliers KNN','Outliers Average KNN','sum_outlier' ],axis=1,inplace=True)"
   ]
  },
  {
   "cell_type": "code",
   "execution_count": null,
   "metadata": {},
   "outputs": [],
   "source": []
  },
  {
   "cell_type": "code",
   "execution_count": 74,
   "metadata": {},
   "outputs": [],
   "source": [
    "df_outlier_removed.to_csv('null from alpha vantage/final result after outlier removal')"
   ]
  },
  {
   "cell_type": "code",
   "execution_count": null,
   "metadata": {},
   "outputs": [],
   "source": []
  },
  {
   "cell_type": "code",
   "execution_count": null,
   "metadata": {},
   "outputs": [],
   "source": []
  },
  {
   "cell_type": "markdown",
   "metadata": {},
   "source": [
    "## 2. Winsorization (Replacing the outlier by upper or lower cap)\n"
   ]
  },
  {
   "cell_type": "code",
   "execution_count": 75,
   "metadata": {},
   "outputs": [],
   "source": [
    "df= pd.read_csv(\"null from alpha vantage/final result after outlier removal\")\n",
    "df.drop(['Unnamed: 0'],axis=1,inplace=True)"
   ]
  },
  {
   "cell_type": "code",
   "execution_count": 79,
   "metadata": {},
   "outputs": [],
   "source": [
    "num_cols=df.select_dtypes(include=['float64','int64']).columns\n",
    "num_cols=num_cols[0:177]"
   ]
  },
  {
   "cell_type": "code",
   "execution_count": 80,
   "metadata": {},
   "outputs": [],
   "source": [
    "for cols in num_cols:\n",
    "    q1=df[cols].quantile(0.1)\n",
    "    q2=df[cols].quantile(0.5)\n",
    "    q3=df[cols].quantile(0.9)\n",
    "    iqr=q3-q1\n",
    "    ul=q3+1.5*iqr\n",
    "    ll=q1-1.5*iqr\n",
    "    df[cols]=df[cols].apply(lambda x:ul if x>ul else x )\n",
    "    df[cols]=df[cols].apply(lambda x:ll if x<ll else x )"
   ]
  },
  {
   "cell_type": "code",
   "execution_count": 81,
   "metadata": {},
   "outputs": [
    {
     "name": "stdout",
     "output_type": "stream",
     "text": [
      "Revenue\n",
      "0\n",
      "0\n",
      "\n",
      "Revenue Growth\n",
      "0\n",
      "0\n",
      "\n",
      "Cost of Revenue\n",
      "0\n",
      "0\n",
      "\n",
      "Gross Profit\n",
      "0\n",
      "0\n",
      "\n",
      "R&D Expenses\n",
      "0\n",
      "0\n",
      "\n",
      "SG&A Expense\n",
      "0\n",
      "0\n",
      "\n",
      "Operating Expenses\n",
      "0\n",
      "0\n",
      "\n",
      "Operating Income\n",
      "0\n",
      "0\n",
      "\n",
      "Interest Expense\n",
      "0\n",
      "0\n",
      "\n",
      "Earnings before Tax\n",
      "0\n",
      "0\n",
      "\n",
      "Income Tax Expense\n",
      "0\n",
      "0\n",
      "\n",
      "Net Income - Non-Controlling int\n",
      "0\n",
      "0\n",
      "\n",
      "Net Income - Discontinued ops\n",
      "0\n",
      "0\n",
      "\n",
      "Net Income\n",
      "0\n",
      "0\n",
      "\n",
      "Preferred Dividends\n",
      "0\n",
      "0\n",
      "\n",
      "Net Income Com\n",
      "0\n",
      "0\n",
      "\n",
      "EPS\n",
      "0\n",
      "0\n",
      "\n",
      "EPS Diluted\n",
      "0\n",
      "0\n",
      "\n",
      "Weighted Average Shs Out\n",
      "0\n",
      "0\n",
      "\n",
      "Weighted Average Shs Out (Dil)\n",
      "0\n",
      "0\n",
      "\n",
      "Dividend per Share\n",
      "0\n",
      "0\n",
      "\n",
      "Gross Margin\n",
      "0\n",
      "0\n",
      "\n",
      "EBITDA Margin\n",
      "0\n",
      "0\n",
      "\n",
      "EBIT Margin\n",
      "0\n",
      "0\n",
      "\n",
      "Profit Margin\n",
      "0\n",
      "0\n",
      "\n",
      "Free Cash Flow margin\n",
      "0\n",
      "0\n",
      "\n",
      "EBITDA\n",
      "0\n",
      "0\n",
      "\n",
      "EBIT\n",
      "0\n",
      "0\n",
      "\n",
      "Consolidated Income\n",
      "0\n",
      "0\n",
      "\n",
      "Earnings Before Tax Margin\n",
      "0\n",
      "0\n",
      "\n",
      "Cash and cash equivalents\n",
      "0\n",
      "0\n",
      "\n",
      "Short-term investments\n",
      "0\n",
      "0\n",
      "\n",
      "Cash and short-term investments\n",
      "0\n",
      "0\n",
      "\n",
      "Receivables\n",
      "0\n",
      "0\n",
      "\n",
      "Inventories\n",
      "0\n",
      "0\n",
      "\n",
      "Total current assets\n",
      "0\n",
      "0\n",
      "\n",
      "Property, Plant & Equipment Net\n",
      "0\n",
      "0\n",
      "\n",
      "Goodwill and Intangible Assets\n",
      "0\n",
      "0\n",
      "\n",
      "Long-term investments\n",
      "0\n",
      "0\n",
      "\n",
      "Tax assets\n",
      "0\n",
      "0\n",
      "\n",
      "Total non-current assets\n",
      "0\n",
      "0\n",
      "\n",
      "Total assets\n",
      "0\n",
      "0\n",
      "\n",
      "Payables\n",
      "0\n",
      "0\n",
      "\n",
      "Short-term debt\n",
      "0\n",
      "0\n",
      "\n",
      "Total current liabilities\n",
      "0\n",
      "0\n",
      "\n",
      "Long-term debt\n",
      "0\n",
      "0\n",
      "\n",
      "Total debt\n",
      "0\n",
      "0\n",
      "\n",
      "Deferred revenue\n",
      "0\n",
      "0\n",
      "\n",
      "Tax Liabilities\n",
      "0\n",
      "0\n",
      "\n",
      "Deposit Liabilities\n",
      "0\n",
      "0\n",
      "\n",
      "Total non-current liabilities\n",
      "0\n",
      "0\n",
      "\n",
      "Total liabilities\n",
      "0\n",
      "0\n",
      "\n",
      "Other comprehensive income\n",
      "0\n",
      "0\n",
      "\n",
      "Retained earnings (deficit)\n",
      "0\n",
      "0\n",
      "\n",
      "Total shareholders equity\n",
      "0\n",
      "0\n",
      "\n",
      "Investments\n",
      "0\n",
      "0\n",
      "\n",
      "Net Debt\n",
      "0\n",
      "0\n",
      "\n",
      "Other Assets\n",
      "0\n",
      "0\n",
      "\n",
      "Other Liabilities\n",
      "0\n",
      "0\n",
      "\n",
      "Depreciation & Amortization\n",
      "0\n",
      "0\n",
      "\n",
      "Stock-based compensation\n",
      "0\n",
      "0\n",
      "\n",
      "Operating Cash Flow\n",
      "0\n",
      "0\n",
      "\n",
      "Capital Expenditure\n",
      "0\n",
      "0\n",
      "\n",
      "Acquisitions and disposals\n",
      "0\n",
      "0\n",
      "\n",
      "Investment purchases and sales\n",
      "0\n",
      "0\n",
      "\n",
      "Investing Cash flow\n",
      "0\n",
      "0\n",
      "\n",
      "Issuance (repayment) of debt\n",
      "0\n",
      "0\n",
      "\n",
      "Issuance (buybacks) of shares\n",
      "0\n",
      "0\n",
      "\n",
      "Dividend payments\n",
      "0\n",
      "0\n",
      "\n",
      "Financing Cash Flow\n",
      "0\n",
      "0\n",
      "\n",
      "Effect of forex changes on cash\n",
      "0\n",
      "0\n",
      "\n",
      "Net cash flow / Change in cash\n",
      "0\n",
      "0\n",
      "\n",
      "Free Cash Flow\n",
      "0\n",
      "0\n",
      "\n",
      "Net Cash/Marketcap\n",
      "0\n",
      "0\n",
      "\n",
      "priceToFreeCashFlowsRatio\n",
      "0\n",
      "0\n",
      "\n",
      "priceToOperatingCashFlowsRatio\n",
      "0\n",
      "0\n",
      "\n",
      "priceEarningsToGrowthRatio\n",
      "0\n",
      "0\n",
      "\n",
      "enterpriseValueMultiple\n",
      "0\n",
      "0\n",
      "\n",
      "priceFairValue\n",
      "0\n",
      "0\n",
      "\n",
      "ebtperEBIT\n",
      "0\n",
      "0\n",
      "\n",
      "operatingProfitMargin\n",
      "0\n",
      "0\n",
      "\n",
      "pretaxProfitMargin\n",
      "0\n",
      "0\n",
      "\n",
      "netProfitMargin\n",
      "0\n",
      "0\n",
      "\n",
      "effectiveTaxRate\n",
      "0\n",
      "0\n",
      "\n",
      "returnOnAssets\n",
      "0\n",
      "0\n",
      "\n",
      "returnOnCapitalEmployed\n",
      "0\n",
      "0\n",
      "\n",
      "nIperEBT\n",
      "0\n",
      "0\n",
      "\n",
      "fixedAssetTurnover\n",
      "0\n",
      "0\n",
      "\n",
      "assetTurnover\n",
      "0\n",
      "0\n",
      "\n",
      "quickRatio\n",
      "0\n",
      "0\n",
      "\n",
      "cashRatio\n",
      "0\n",
      "0\n",
      "\n",
      "operatingCycle\n",
      "0\n",
      "0\n",
      "\n",
      "cashConversionCycle\n",
      "0\n",
      "0\n",
      "\n",
      "longtermDebtToCapitalization\n",
      "0\n",
      "0\n",
      "\n",
      "totalDebtToCapitalization\n",
      "0\n",
      "0\n",
      "\n",
      "companyEquityMultiplier\n",
      "0\n",
      "0\n",
      "\n",
      "cashPerShare\n",
      "0\n",
      "0\n",
      "\n",
      "operatingCashFlowSalesRatio\n",
      "0\n",
      "0\n",
      "\n",
      "freeCashFlowOperatingCashFlowRatio\n",
      "0\n",
      "0\n",
      "\n",
      "cashFlowCoverageRatios\n",
      "0\n",
      "0\n",
      "\n",
      "shortTermCoverageRatios\n",
      "0\n",
      "0\n",
      "\n",
      "capitalExpenditureCoverageRatios\n",
      "0\n",
      "0\n",
      "\n",
      "dividendpaidAndCapexCoverageRatios\n",
      "0\n",
      "0\n",
      "\n",
      "Revenue per Share\n",
      "0\n",
      "0\n",
      "\n",
      "Net Income per Share\n",
      "0\n",
      "0\n",
      "\n",
      "Operating Cash Flow per Share\n",
      "0\n",
      "0\n",
      "\n",
      "Free Cash Flow per Share\n",
      "0\n",
      "0\n",
      "\n",
      "Cash per Share\n",
      "0\n",
      "0\n",
      "\n",
      "Book Value per Share\n",
      "0\n",
      "0\n",
      "\n",
      "Tangible Book Value per Share\n",
      "0\n",
      "0\n",
      "\n",
      "Shareholders Equity per Share\n",
      "0\n",
      "0\n",
      "\n",
      "Interest Debt per Share\n",
      "0\n",
      "0\n",
      "\n",
      "Market Cap\n",
      "0\n",
      "0\n",
      "\n",
      "Enterprise Value\n",
      "0\n",
      "0\n",
      "\n",
      "PE ratio\n",
      "0\n",
      "0\n",
      "\n",
      "Price to Sales Ratio\n",
      "0\n",
      "0\n",
      "\n",
      "POCF ratio\n",
      "0\n",
      "0\n",
      "\n",
      "PFCF ratio\n",
      "0\n",
      "0\n",
      "\n",
      "PTB ratio\n",
      "0\n",
      "0\n",
      "\n",
      "EV to Sales\n",
      "0\n",
      "0\n",
      "\n",
      "EV to Operating cash flow\n",
      "0\n",
      "0\n",
      "\n",
      "EV to Free cash flow\n",
      "0\n",
      "0\n",
      "\n",
      "Earnings Yield\n",
      "0\n",
      "0\n",
      "\n",
      "Free Cash Flow Yield\n",
      "0\n",
      "0\n",
      "\n",
      "Debt to Equity\n",
      "0\n",
      "0\n",
      "\n",
      "Debt to Assets\n",
      "0\n",
      "0\n",
      "\n",
      "Net Debt to EBITDA\n",
      "0\n",
      "0\n",
      "\n",
      "Current ratio\n",
      "0\n",
      "0\n",
      "\n",
      "Interest Coverage\n",
      "0\n",
      "0\n",
      "\n",
      "Income Quality\n",
      "0\n",
      "0\n",
      "\n",
      "Dividend Yield\n",
      "0\n",
      "0\n",
      "\n",
      "Payout Ratio\n",
      "0\n",
      "0\n",
      "\n",
      "SG&A to Revenue\n",
      "0\n",
      "0\n",
      "\n",
      "R&D to Revenue\n",
      "0\n",
      "0\n",
      "\n",
      "Intangibles to Total Assets\n",
      "0\n",
      "0\n",
      "\n",
      "Capex to Operating Cash Flow\n",
      "0\n",
      "0\n",
      "\n",
      "Capex to Revenue\n",
      "0\n",
      "0\n",
      "\n",
      "Capex to Depreciation\n",
      "0\n",
      "0\n",
      "\n",
      "Stock-based compensation to Revenue\n",
      "0\n",
      "0\n",
      "\n",
      "Graham Number\n",
      "0\n",
      "0\n",
      "\n",
      "ROIC\n",
      "0\n",
      "0\n",
      "\n",
      "Return on Tangible Assets\n",
      "0\n",
      "0\n",
      "\n",
      "Graham Net-Net\n",
      "0\n",
      "0\n",
      "\n",
      "Working Capital\n",
      "0\n",
      "0\n",
      "\n",
      "Tangible Asset Value\n",
      "0\n",
      "0\n",
      "\n",
      "Net Current Asset Value\n",
      "0\n",
      "0\n",
      "\n",
      "Invested Capital\n",
      "0\n",
      "0\n",
      "\n",
      "Average Receivables\n",
      "0\n",
      "0\n",
      "\n",
      "Average Payables\n",
      "0\n",
      "0\n",
      "\n",
      "Average Inventory\n",
      "0\n",
      "0\n",
      "\n",
      "Days Sales Outstanding\n",
      "0\n",
      "0\n",
      "\n",
      "Days Payables Outstanding\n",
      "0\n",
      "0\n",
      "\n",
      "Days of Inventory on Hand\n",
      "0\n",
      "0\n",
      "\n",
      "Receivables Turnover\n",
      "0\n",
      "0\n",
      "\n",
      "Payables Turnover\n",
      "0\n",
      "0\n",
      "\n",
      "Inventory Turnover\n",
      "0\n",
      "0\n",
      "\n",
      "ROE\n",
      "0\n",
      "0\n",
      "\n",
      "Capex per Share\n",
      "0\n",
      "0\n",
      "\n",
      "Gross Profit Growth\n",
      "0\n",
      "0\n",
      "\n",
      "EBIT Growth\n",
      "0\n",
      "0\n",
      "\n",
      "Operating Income Growth\n",
      "0\n",
      "0\n",
      "\n",
      "Net Income Growth\n",
      "0\n",
      "0\n",
      "\n",
      "EPS Growth\n",
      "0\n",
      "0\n",
      "\n",
      "EPS Diluted Growth\n",
      "0\n",
      "0\n",
      "\n",
      "Weighted Average Shares Growth\n",
      "0\n",
      "0\n",
      "\n",
      "Weighted Average Shares Diluted Growth\n",
      "0\n",
      "0\n",
      "\n",
      "Dividends per Share Growth\n",
      "0\n",
      "0\n",
      "\n",
      "Operating Cash Flow growth\n",
      "0\n",
      "0\n",
      "\n",
      "Free Cash Flow growth\n",
      "0\n",
      "0\n",
      "\n",
      "Receivables growth\n",
      "0\n",
      "0\n",
      "\n",
      "Inventory Growth\n",
      "0\n",
      "0\n",
      "\n",
      "Asset Growth\n",
      "0\n",
      "0\n",
      "\n",
      "Book Value per Share Growth\n",
      "0\n",
      "0\n",
      "\n",
      "Debt Growth\n",
      "0\n",
      "0\n",
      "\n",
      "R&D Expense Growth\n",
      "0\n",
      "0\n",
      "\n",
      "SG&A Expenses Growth\n",
      "0\n",
      "0\n",
      "\n",
      "Next year PRICE VAR [%]\n",
      "0\n",
      "0\n",
      "\n"
     ]
    }
   ],
   "source": [
    "count=0\n",
    "for cols in num_cols:\n",
    "    q1=df[cols].quantile(0.1)\n",
    "    q2=df[cols].quantile(0.5)\n",
    "    q3=df[cols].quantile(0.9)\n",
    "    iqr=q3-q1\n",
    "    ul=q3+1.5*iqr\n",
    "    ll=q1-1.5*iqr\n",
    "    print(cols)\n",
    "    print(df[df[cols]>ul][cols].count())\n",
    "    print(df[df[cols]<ll][cols].count())\n",
    "    print()\n",
    "    count=count+1"
   ]
  },
  {
   "cell_type": "code",
   "execution_count": 82,
   "metadata": {},
   "outputs": [],
   "source": [
    "df.to_csv('null from alpha vantage/final result after outlier capping')"
   ]
  },
  {
   "cell_type": "markdown",
   "metadata": {},
   "source": []
  },
  {
   "cell_type": "markdown",
   "metadata": {},
   "source": [
    "## Step 2 Stastical Analysis (Pearson correlation) - to identify & drop similar columns"
   ]
  },
  {
   "cell_type": "code",
   "execution_count": 160,
   "metadata": {},
   "outputs": [],
   "source": [
    "import scipy.stats as stats\n",
    "import pandas as pd\n",
    "from scipy.stats import pearsonr"
   ]
  },
  {
   "cell_type": "code",
   "execution_count": 161,
   "metadata": {},
   "outputs": [],
   "source": [
    "df= pd.read_csv(\"null from alpha vantage/final result after outlier capping\")"
   ]
  },
  {
   "cell_type": "code",
   "execution_count": 162,
   "metadata": {},
   "outputs": [],
   "source": [
    "df.drop(['Unnamed: 0','operatingProfitMargin','Net Income - Discontinued ops'],axis=1,inplace=True)"
   ]
  },
  {
   "cell_type": "code",
   "execution_count": 163,
   "metadata": {},
   "outputs": [],
   "source": [
    "num_cols=df.select_dtypes(include=['float64','int64']).columns"
   ]
  },
  {
   "cell_type": "code",
   "execution_count": 164,
   "metadata": {},
   "outputs": [],
   "source": [
    "# dropping year, class, next year price var\n",
    "num_cols=num_cols[0:176]\n",
    "df_num=df[num_cols]"
   ]
  },
  {
   "cell_type": "code",
   "execution_count": 165,
   "metadata": {},
   "outputs": [],
   "source": [
    "from sklearn.preprocessing import StandardScaler\n",
    "df_num=df[num_cols]\n",
    "ss=StandardScaler()\n",
    "cols=df_num.columns\n",
    "df_num=ss.fit_transform(df_num)\n",
    "\n",
    "df_num=pd.DataFrame(df_num,columns=cols)"
   ]
  },
  {
   "cell_type": "code",
   "execution_count": null,
   "metadata": {},
   "outputs": [],
   "source": []
  },
  {
   "cell_type": "code",
   "execution_count": null,
   "metadata": {},
   "outputs": [],
   "source": [
    "#from sklearn.preprocessing import MinMaxScaler\n",
    "#df_num=df[num_cols]\n",
    "#cols=df_num.columns\n",
    "#scaler = MinMaxScaler(feature_range=(0, 1))\n",
    "#df_num = scaler.fit_transform(df_num)\n",
    "#df_num=pd.DataFrame(df_num,columns=cols)"
   ]
  },
  {
   "cell_type": "code",
   "execution_count": 166,
   "metadata": {},
   "outputs": [],
   "source": [
    "df_stats=pd.DataFrame()\n",
    "for cols_main in df_num.columns:\n",
    "    for cols_sub in df_num.columns:\n",
    "            df_stats.loc[cols_main,cols_sub]= pearsonr(df_num[cols_main],df_num[cols_sub])[0]\n",
    "            \n",
    "    \n",
    "    \n",
    "   "
   ]
  },
  {
   "cell_type": "code",
   "execution_count": 167,
   "metadata": {},
   "outputs": [],
   "source": [
    "df_corr=pd.DataFrame()\n",
    "for cols in df_stats.columns:\n",
    "    l1=list(df_stats[df_stats[cols]>0.9].index)\n",
    "    l1.remove(cols)\n",
    "    count=0\n",
    "    for item in l1:\n",
    "        df_corr.loc[cols,'values'+str(count)]=l1[count]\n",
    "        count=count+1\n",
    "\n",
    "    \n",
    "   "
   ]
  },
  {
   "cell_type": "code",
   "execution_count": 176,
   "metadata": {},
   "outputs": [],
   "source": [
    "\n",
    "col_removed=['Consolidated Income', 'Net Income Com','EBIT', 'Earnings before Tax', 'Operating Income','EPS Diluted',\n",
    "'Weighted Average Shs Out (Dil)', 'Profit Margin', 'pretaxProfitMargin', 'netProfitMargin', 'Earnings Before Tax Margin', \n",
    "'Average Receivables', 'Average Inventory', 'Total liabilities', 'Average Payables', 'Long-term debt', 'PFCF ratio',\n",
    "'POCF ratio', 'Return on Tangible Assets', 'ROIC', 'longtermDebtToCapitalization', 'cashPerShare', 'Invested Capital',\n",
    "'Net Income Growth','EPS Diluted Growth']"
   ]
  },
  {
   "cell_type": "code",
   "execution_count": 177,
   "metadata": {},
   "outputs": [],
   "source": [
    "df.drop(col_removed,axis=1,inplace=True)"
   ]
  },
  {
   "cell_type": "code",
   "execution_count": 187,
   "metadata": {},
   "outputs": [],
   "source": [
    "df.to_csv('null from alpha vantage/final result after removing statstical similar columns.csv')"
   ]
  },
  {
   "cell_type": "code",
   "execution_count": 276,
   "metadata": {},
   "outputs": [],
   "source": [
    "pd.set_option('display.max_rows', 20)\n",
    "pd.set_option('display.max_columns', None)\n",
    "pd.set_option('display.width', 20)\n",
    "#pd.set_option('display.max_colwidth', -1)"
   ]
  },
  {
   "cell_type": "code",
   "execution_count": 188,
   "metadata": {},
   "outputs": [],
   "source": [
    "#Heat map"
   ]
  },
  {
   "cell_type": "code",
   "execution_count": null,
   "metadata": {},
   "outputs": [],
   "source": [
    "#import pandas as pd\n",
    "#import numpy as np\n",
    "#import seaborn as sns\n",
    "\n",
    "#X = df_num \n",
    "\n",
    "#corrmat = df_num.corr()\n",
    "#top_corr_features = corrmat.index\n",
    "#plt.figure(figsize=(900,900))\n",
    "#plot heat map\n",
    "#g=sns.heatmap(df_num[top_corr_features].corr(),annot=True,cmap=\"RdYlGn\")"
   ]
  },
  {
   "cell_type": "markdown",
   "metadata": {},
   "source": [
    "# Step 3 - Feature selection"
   ]
  },
  {
   "cell_type": "markdown",
   "metadata": {},
   "source": [
    "# A  Univariate feature selection"
   ]
  },
  {
   "cell_type": "markdown",
   "metadata": {},
   "source": [
    "## 1 f test classification"
   ]
  },
  {
   "cell_type": "code",
   "execution_count": 230,
   "metadata": {},
   "outputs": [],
   "source": [
    "df=pd.read_csv('null from alpha vantage/final result after removing statstical similar columns.csv')"
   ]
  },
  {
   "cell_type": "code",
   "execution_count": 231,
   "metadata": {},
   "outputs": [],
   "source": [
    "df.drop(['Unnamed: 0'],axis=1,inplace=True)"
   ]
  },
  {
   "cell_type": "code",
   "execution_count": 232,
   "metadata": {},
   "outputs": [],
   "source": [
    "num_cols=df.select_dtypes(include=['float64','int64']).columns\n",
    "num_cols=num_cols[0:149]\n",
    "df_num=df[num_cols]"
   ]
  },
  {
   "cell_type": "code",
   "execution_count": 233,
   "metadata": {},
   "outputs": [],
   "source": [
    "from sklearn.preprocessing import StandardScaler\n",
    "df_num=df[num_cols]\n",
    "ss=StandardScaler()\n",
    "cols=df_num.columns\n",
    "df_num=ss.fit_transform(df_num)\n",
    "\n",
    "df_num=pd.DataFrame(df_num,columns=cols)"
   ]
  },
  {
   "cell_type": "code",
   "execution_count": 234,
   "metadata": {},
   "outputs": [
    {
     "name": "stdout",
     "output_type": "stream",
     "text": [
      "[ True False  True  True False  True  True False  True False  True False\n",
      "  True  True  True  True  True  True  True  True  True False  True  True\n",
      " False  True False  True  True False  True  True  True  True  True  True\n",
      "  True  True  True  True  True  True  True  True  True False  True  True\n",
      "  True  True False False False  True False  True  True False  True False\n",
      "  True False  True  True False  True False False False  True  True False\n",
      " False False  True  True False  True False  True  True False  True False\n",
      "  True  True False  True  True  True False False  True False False  True\n",
      "  True  True  True False  True  True  True  True  True False False False\n",
      "  True  True False  True  True  True  True False False False False  True\n",
      "  True  True False  True  True False  True False False False False  True\n",
      " False False False False False  True  True  True False False False False\n",
      "  True False False  True  True]\n"
     ]
    }
   ],
   "source": [
    "from sklearn.feature_selection import SelectKBest\n",
    "from sklearn.feature_selection import f_classif\n",
    "sel_f = SelectKBest(f_classif, k=90)\n",
    "df_f = sel_f.fit_transform(df_num, df['Class'])\n",
    "print(sel_f.get_support())"
   ]
  },
  {
   "cell_type": "code",
   "execution_count": 235,
   "metadata": {},
   "outputs": [],
   "source": [
    "df_univar=pd.DataFrame(sel_f.get_support(),index=df_num.columns)"
   ]
  },
  {
   "cell_type": "code",
   "execution_count": 236,
   "metadata": {},
   "outputs": [
    {
     "data": {
      "text/html": [
       "<div>\n",
       "<style scoped>\n",
       "    .dataframe tbody tr th:only-of-type {\n",
       "        vertical-align: middle;\n",
       "    }\n",
       "\n",
       "    .dataframe tbody tr th {\n",
       "        vertical-align: top;\n",
       "    }\n",
       "\n",
       "    .dataframe thead th {\n",
       "        text-align: right;\n",
       "    }\n",
       "</style>\n",
       "<table border=\"1\" class=\"dataframe\">\n",
       "  <thead>\n",
       "    <tr style=\"text-align: right;\">\n",
       "      <th></th>\n",
       "      <th>0</th>\n",
       "    </tr>\n",
       "  </thead>\n",
       "  <tbody>\n",
       "    <tr>\n",
       "      <td>Revenue Growth</td>\n",
       "      <td>False</td>\n",
       "    </tr>\n",
       "    <tr>\n",
       "      <td>R&amp;D Expenses</td>\n",
       "      <td>False</td>\n",
       "    </tr>\n",
       "    <tr>\n",
       "      <td>Interest Expense</td>\n",
       "      <td>False</td>\n",
       "    </tr>\n",
       "    <tr>\n",
       "      <td>Net Income - Non-Controlling int</td>\n",
       "      <td>False</td>\n",
       "    </tr>\n",
       "    <tr>\n",
       "      <td>Preferred Dividends</td>\n",
       "      <td>False</td>\n",
       "    </tr>\n",
       "    <tr>\n",
       "      <td>...</td>\n",
       "      <td>...</td>\n",
       "    </tr>\n",
       "    <tr>\n",
       "      <td>Free Cash Flow growth</td>\n",
       "      <td>False</td>\n",
       "    </tr>\n",
       "    <tr>\n",
       "      <td>Receivables growth</td>\n",
       "      <td>False</td>\n",
       "    </tr>\n",
       "    <tr>\n",
       "      <td>Inventory Growth</td>\n",
       "      <td>False</td>\n",
       "    </tr>\n",
       "    <tr>\n",
       "      <td>Book Value per Share Growth</td>\n",
       "      <td>False</td>\n",
       "    </tr>\n",
       "    <tr>\n",
       "      <td>Debt Growth</td>\n",
       "      <td>False</td>\n",
       "    </tr>\n",
       "  </tbody>\n",
       "</table>\n",
       "<p>59 rows × 1 columns</p>\n",
       "</div>"
      ],
      "text/plain": [
       "                                      0\n",
       "Revenue Growth                    False\n",
       "R&D Expenses                      False\n",
       "Interest Expense                  False\n",
       "Net Income - Non-Controlling int  False\n",
       "Preferred Dividends               False\n",
       "...                                 ...\n",
       "Free Cash Flow growth             False\n",
       "Receivables growth                False\n",
       "Inventory Growth                  False\n",
       "Book Value per Share Growth       False\n",
       "Debt Growth                       False\n",
       "\n",
       "[59 rows x 1 columns]"
      ]
     },
     "execution_count": 236,
     "metadata": {},
     "output_type": "execute_result"
    }
   ],
   "source": [
    "df_univar.loc[df_univar[0] == False]"
   ]
  },
  {
   "cell_type": "code",
   "execution_count": 237,
   "metadata": {},
   "outputs": [],
   "source": [
    "df_univar.rename(columns={0:'f test'},inplace=True)"
   ]
  },
  {
   "cell_type": "code",
   "execution_count": null,
   "metadata": {},
   "outputs": [],
   "source": []
  },
  {
   "cell_type": "markdown",
   "metadata": {},
   "source": [
    "## 2 use mutual_info_classif test"
   ]
  },
  {
   "cell_type": "code",
   "execution_count": 238,
   "metadata": {},
   "outputs": [
    {
     "name": "stdout",
     "output_type": "stream",
     "text": [
      "[ True  True False  True  True False False  True False False  True False\n",
      "  True  True False False  True  True  True  True  True False  True  True\n",
      "  True  True  True False  True False  True  True  True False  True  True\n",
      " False False  True False False  True  True  True  True  True  True  True\n",
      " False  True  True False  True  True False  True  True False False  True\n",
      "  True False  True  True  True  True False  True  True  True  True  True\n",
      " False  True False False False  True False False  True  True  True  True\n",
      "  True  True  True  True  True  True False False False False False  True\n",
      " False  True  True False False  True  True  True  True  True False False\n",
      " False  True  True  True  True  True  True False  True  True False  True\n",
      " False False  True  True  True False False False False False False  True\n",
      " False  True False  True False  True  True  True  True False False False\n",
      " False  True False  True False]\n"
     ]
    }
   ],
   "source": [
    "from sklearn.feature_selection import SelectKBest\n",
    "from sklearn.feature_selection import mutual_info_classif\n",
    "sel_mutual = SelectKBest(mutual_info_classif, k=90)\n",
    "df_mutual = sel_mutual.fit_transform(df_num, df['Class'])\n",
    "print(sel_mutual.get_support())"
   ]
  },
  {
   "cell_type": "code",
   "execution_count": 239,
   "metadata": {},
   "outputs": [],
   "source": [
    "df_mi=pd.DataFrame(sel_mutual.get_support(),index=df_num.columns)"
   ]
  },
  {
   "cell_type": "code",
   "execution_count": 240,
   "metadata": {},
   "outputs": [
    {
     "data": {
      "text/html": [
       "<div>\n",
       "<style scoped>\n",
       "    .dataframe tbody tr th:only-of-type {\n",
       "        vertical-align: middle;\n",
       "    }\n",
       "\n",
       "    .dataframe tbody tr th {\n",
       "        vertical-align: top;\n",
       "    }\n",
       "\n",
       "    .dataframe thead th {\n",
       "        text-align: right;\n",
       "    }\n",
       "</style>\n",
       "<table border=\"1\" class=\"dataframe\">\n",
       "  <thead>\n",
       "    <tr style=\"text-align: right;\">\n",
       "      <th></th>\n",
       "      <th>0</th>\n",
       "    </tr>\n",
       "  </thead>\n",
       "  <tbody>\n",
       "    <tr>\n",
       "      <td>Cost of Revenue</td>\n",
       "      <td>False</td>\n",
       "    </tr>\n",
       "    <tr>\n",
       "      <td>SG&amp;A Expense</td>\n",
       "      <td>False</td>\n",
       "    </tr>\n",
       "    <tr>\n",
       "      <td>Operating Expenses</td>\n",
       "      <td>False</td>\n",
       "    </tr>\n",
       "    <tr>\n",
       "      <td>Income Tax Expense</td>\n",
       "      <td>False</td>\n",
       "    </tr>\n",
       "    <tr>\n",
       "      <td>Net Income - Non-Controlling int</td>\n",
       "      <td>False</td>\n",
       "    </tr>\n",
       "    <tr>\n",
       "      <td>...</td>\n",
       "      <td>...</td>\n",
       "    </tr>\n",
       "    <tr>\n",
       "      <td>Receivables growth</td>\n",
       "      <td>False</td>\n",
       "    </tr>\n",
       "    <tr>\n",
       "      <td>Inventory Growth</td>\n",
       "      <td>False</td>\n",
       "    </tr>\n",
       "    <tr>\n",
       "      <td>Asset Growth</td>\n",
       "      <td>False</td>\n",
       "    </tr>\n",
       "    <tr>\n",
       "      <td>Debt Growth</td>\n",
       "      <td>False</td>\n",
       "    </tr>\n",
       "    <tr>\n",
       "      <td>SG&amp;A Expenses Growth</td>\n",
       "      <td>False</td>\n",
       "    </tr>\n",
       "  </tbody>\n",
       "</table>\n",
       "<p>59 rows × 1 columns</p>\n",
       "</div>"
      ],
      "text/plain": [
       "                                      0\n",
       "Cost of Revenue                   False\n",
       "SG&A Expense                      False\n",
       "Operating Expenses                False\n",
       "Income Tax Expense                False\n",
       "Net Income - Non-Controlling int  False\n",
       "...                                 ...\n",
       "Receivables growth                False\n",
       "Inventory Growth                  False\n",
       "Asset Growth                      False\n",
       "Debt Growth                       False\n",
       "SG&A Expenses Growth              False\n",
       "\n",
       "[59 rows x 1 columns]"
      ]
     },
     "execution_count": 240,
     "metadata": {},
     "output_type": "execute_result"
    }
   ],
   "source": [
    "df_mi.loc[df_mi[0] == False]"
   ]
  },
  {
   "cell_type": "code",
   "execution_count": 241,
   "metadata": {},
   "outputs": [],
   "source": [
    "df_mi.rename(columns={0:'MI'},inplace=True)"
   ]
  },
  {
   "cell_type": "markdown",
   "metadata": {},
   "source": [
    "# B Recursive feature elimination"
   ]
  },
  {
   "cell_type": "markdown",
   "metadata": {},
   "source": [
    "## 1  use the logistic regression as the model"
   ]
  },
  {
   "cell_type": "code",
   "execution_count": 242,
   "metadata": {},
   "outputs": [
    {
     "name": "stdout",
     "output_type": "stream",
     "text": [
      "[ True  True  True  True  True  True False False False False  True  True\n",
      "  True False False  True  True  True  True  True  True  True False  True\n",
      "  True  True False False  True False  True  True  True False False  True\n",
      "  True  True  True False False  True False False  True  True False  True\n",
      "  True  True False False  True  True False  True  True  True  True False\n",
      "  True  True False  True False False False False  True False False False\n",
      " False  True False  True  True  True  True  True  True  True  True  True\n",
      "  True  True  True  True  True False  True  True False  True False False\n",
      "  True False False False  True  True  True False False  True False  True\n",
      "  True False False  True False False  True False  True False  True  True\n",
      " False  True  True  True  True  True  True  True False  True  True  True\n",
      "  True False  True  True  True  True False  True False False False  True\n",
      " False False False False False]\n"
     ]
    }
   ],
   "source": [
    "from sklearn.linear_model import LogisticRegression\n",
    "from sklearn.feature_selection import RFE\n",
    "model_logistic = LogisticRegression(solver='lbfgs', max_iter=1000)\n",
    "sel_rfe_logistic = RFE(estimator=model_logistic, n_features_to_select=90, step=1)\n",
    "df_rfe_logistic = sel_rfe_logistic.fit_transform(df_num, df['Class'])\n",
    "print(sel_rfe_logistic.get_support())"
   ]
  },
  {
   "cell_type": "code",
   "execution_count": 243,
   "metadata": {},
   "outputs": [],
   "source": [
    "df_lr=pd.DataFrame(sel_rfe_logistic.get_support(),index=df_num.columns)"
   ]
  },
  {
   "cell_type": "code",
   "execution_count": 244,
   "metadata": {},
   "outputs": [
    {
     "data": {
      "text/html": [
       "<div>\n",
       "<style scoped>\n",
       "    .dataframe tbody tr th:only-of-type {\n",
       "        vertical-align: middle;\n",
       "    }\n",
       "\n",
       "    .dataframe tbody tr th {\n",
       "        vertical-align: top;\n",
       "    }\n",
       "\n",
       "    .dataframe thead th {\n",
       "        text-align: right;\n",
       "    }\n",
       "</style>\n",
       "<table border=\"1\" class=\"dataframe\">\n",
       "  <thead>\n",
       "    <tr style=\"text-align: right;\">\n",
       "      <th></th>\n",
       "      <th>0</th>\n",
       "    </tr>\n",
       "  </thead>\n",
       "  <tbody>\n",
       "    <tr>\n",
       "      <td>Operating Expenses</td>\n",
       "      <td>False</td>\n",
       "    </tr>\n",
       "    <tr>\n",
       "      <td>Interest Expense</td>\n",
       "      <td>False</td>\n",
       "    </tr>\n",
       "    <tr>\n",
       "      <td>Income Tax Expense</td>\n",
       "      <td>False</td>\n",
       "    </tr>\n",
       "    <tr>\n",
       "      <td>Net Income - Non-Controlling int</td>\n",
       "      <td>False</td>\n",
       "    </tr>\n",
       "    <tr>\n",
       "      <td>Weighted Average Shs Out</td>\n",
       "      <td>False</td>\n",
       "    </tr>\n",
       "    <tr>\n",
       "      <td>...</td>\n",
       "      <td>...</td>\n",
       "    </tr>\n",
       "    <tr>\n",
       "      <td>Asset Growth</td>\n",
       "      <td>False</td>\n",
       "    </tr>\n",
       "    <tr>\n",
       "      <td>Book Value per Share Growth</td>\n",
       "      <td>False</td>\n",
       "    </tr>\n",
       "    <tr>\n",
       "      <td>Debt Growth</td>\n",
       "      <td>False</td>\n",
       "    </tr>\n",
       "    <tr>\n",
       "      <td>R&amp;D Expense Growth</td>\n",
       "      <td>False</td>\n",
       "    </tr>\n",
       "    <tr>\n",
       "      <td>SG&amp;A Expenses Growth</td>\n",
       "      <td>False</td>\n",
       "    </tr>\n",
       "  </tbody>\n",
       "</table>\n",
       "<p>59 rows × 1 columns</p>\n",
       "</div>"
      ],
      "text/plain": [
       "                                      0\n",
       "Operating Expenses                False\n",
       "Interest Expense                  False\n",
       "Income Tax Expense                False\n",
       "Net Income - Non-Controlling int  False\n",
       "Weighted Average Shs Out          False\n",
       "...                                 ...\n",
       "Asset Growth                      False\n",
       "Book Value per Share Growth       False\n",
       "Debt Growth                       False\n",
       "R&D Expense Growth                False\n",
       "SG&A Expenses Growth              False\n",
       "\n",
       "[59 rows x 1 columns]"
      ]
     },
     "execution_count": 244,
     "metadata": {},
     "output_type": "execute_result"
    }
   ],
   "source": [
    "df_lr.loc[df_lr[0] == False]"
   ]
  },
  {
   "cell_type": "code",
   "execution_count": 245,
   "metadata": {},
   "outputs": [],
   "source": [
    "df_lr.rename(columns={0:'lr'},inplace=True)"
   ]
  },
  {
   "cell_type": "markdown",
   "metadata": {},
   "source": [
    "## 2 use the random forest as the model"
   ]
  },
  {
   "cell_type": "code",
   "execution_count": 246,
   "metadata": {},
   "outputs": [
    {
     "name": "stdout",
     "output_type": "stream",
     "text": [
      "[False  True False False False  True  True False  True False  True False\n",
      "  True  True False  True False  True False  True  True False False False\n",
      " False False False False False False False  True False False  True False\n",
      " False False False False  True  True False False False  True  True False\n",
      " False  True False False False  True  True  True False  True  True  True\n",
      " False  True False  True  True  True  True False  True  True  True  True\n",
      "  True  True  True  True False  True False  True  True  True  True  True\n",
      "  True  True False  True  True  True  True  True  True  True False  True\n",
      "  True False  True  True  True  True  True  True  True False False  True\n",
      "  True False  True False False  True False False False  True  True False\n",
      " False  True  True  True  True  True False False  True  True False  True\n",
      "  True  True  True  True  True  True  True False  True  True  True  True\n",
      "  True  True  True False  True]\n"
     ]
    }
   ],
   "source": [
    "from sklearn.ensemble import RandomForestClassifier\n",
    "model_tree = RandomForestClassifier(random_state=100, n_estimators=50)\n",
    "sel_rfe_tree = RFE(estimator=model_tree, n_features_to_select=90, step=1)\n",
    "df_rfe_tree = sel_rfe_tree.fit_transform(df_num, df['Class'])\n",
    "print(sel_rfe_tree.get_support())\n"
   ]
  },
  {
   "cell_type": "code",
   "execution_count": 247,
   "metadata": {},
   "outputs": [],
   "source": [
    "df_rf=pd.DataFrame(sel_rfe_tree.get_support(),index=df_num.columns)"
   ]
  },
  {
   "cell_type": "code",
   "execution_count": 248,
   "metadata": {},
   "outputs": [
    {
     "data": {
      "text/html": [
       "<div>\n",
       "<style scoped>\n",
       "    .dataframe tbody tr th:only-of-type {\n",
       "        vertical-align: middle;\n",
       "    }\n",
       "\n",
       "    .dataframe tbody tr th {\n",
       "        vertical-align: top;\n",
       "    }\n",
       "\n",
       "    .dataframe thead th {\n",
       "        text-align: right;\n",
       "    }\n",
       "</style>\n",
       "<table border=\"1\" class=\"dataframe\">\n",
       "  <thead>\n",
       "    <tr style=\"text-align: right;\">\n",
       "      <th></th>\n",
       "      <th>0</th>\n",
       "    </tr>\n",
       "  </thead>\n",
       "  <tbody>\n",
       "    <tr>\n",
       "      <td>Revenue</td>\n",
       "      <td>False</td>\n",
       "    </tr>\n",
       "    <tr>\n",
       "      <td>Cost of Revenue</td>\n",
       "      <td>False</td>\n",
       "    </tr>\n",
       "    <tr>\n",
       "      <td>Gross Profit</td>\n",
       "      <td>False</td>\n",
       "    </tr>\n",
       "    <tr>\n",
       "      <td>R&amp;D Expenses</td>\n",
       "      <td>False</td>\n",
       "    </tr>\n",
       "    <tr>\n",
       "      <td>Interest Expense</td>\n",
       "      <td>False</td>\n",
       "    </tr>\n",
       "    <tr>\n",
       "      <td>...</td>\n",
       "      <td>...</td>\n",
       "    </tr>\n",
       "    <tr>\n",
       "      <td>Days Payables Outstanding</td>\n",
       "      <td>False</td>\n",
       "    </tr>\n",
       "    <tr>\n",
       "      <td>Days of Inventory on Hand</td>\n",
       "      <td>False</td>\n",
       "    </tr>\n",
       "    <tr>\n",
       "      <td>Inventory Turnover</td>\n",
       "      <td>False</td>\n",
       "    </tr>\n",
       "    <tr>\n",
       "      <td>Dividends per Share Growth</td>\n",
       "      <td>False</td>\n",
       "    </tr>\n",
       "    <tr>\n",
       "      <td>R&amp;D Expense Growth</td>\n",
       "      <td>False</td>\n",
       "    </tr>\n",
       "  </tbody>\n",
       "</table>\n",
       "<p>59 rows × 1 columns</p>\n",
       "</div>"
      ],
      "text/plain": [
       "                                0\n",
       "Revenue                     False\n",
       "Cost of Revenue             False\n",
       "Gross Profit                False\n",
       "R&D Expenses                False\n",
       "Interest Expense            False\n",
       "...                           ...\n",
       "Days Payables Outstanding   False\n",
       "Days of Inventory on Hand   False\n",
       "Inventory Turnover          False\n",
       "Dividends per Share Growth  False\n",
       "R&D Expense Growth          False\n",
       "\n",
       "[59 rows x 1 columns]"
      ]
     },
     "execution_count": 248,
     "metadata": {},
     "output_type": "execute_result"
    }
   ],
   "source": [
    "df_rf.loc[df_rf[0] ==False]"
   ]
  },
  {
   "cell_type": "code",
   "execution_count": 249,
   "metadata": {},
   "outputs": [],
   "source": [
    "df_rf.rename(columns={0:'rf'},inplace=True)"
   ]
  },
  {
   "cell_type": "code",
   "execution_count": 250,
   "metadata": {},
   "outputs": [],
   "source": [
    "df_feature=pd.concat([df_univar,df_mi,df_lr,df_rf],axis=1)"
   ]
  },
  {
   "cell_type": "code",
   "execution_count": null,
   "metadata": {},
   "outputs": [],
   "source": []
  },
  {
   "cell_type": "code",
   "execution_count": 251,
   "metadata": {},
   "outputs": [],
   "source": [
    "df_feature=df_feature.astype(int)"
   ]
  },
  {
   "cell_type": "code",
   "execution_count": 252,
   "metadata": {},
   "outputs": [],
   "source": [
    "df_feature['total']=df_feature['f test']+df_feature['MI']+df_feature['lr']+df_feature['rf']"
   ]
  },
  {
   "cell_type": "code",
   "execution_count": 271,
   "metadata": {
    "scrolled": true
   },
   "outputs": [
    {
     "data": {
      "text/html": [
       "<div>\n",
       "<style scoped>\n",
       "    .dataframe tbody tr th:only-of-type {\n",
       "        vertical-align: middle;\n",
       "    }\n",
       "\n",
       "    .dataframe tbody tr th {\n",
       "        vertical-align: top;\n",
       "    }\n",
       "\n",
       "    .dataframe thead th {\n",
       "        text-align: right;\n",
       "    }\n",
       "</style>\n",
       "<table border=\"1\" class=\"dataframe\">\n",
       "  <thead>\n",
       "    <tr style=\"text-align: right;\">\n",
       "      <th></th>\n",
       "      <th>f test</th>\n",
       "      <th>MI</th>\n",
       "      <th>lr</th>\n",
       "      <th>rf</th>\n",
       "      <th>total</th>\n",
       "    </tr>\n",
       "  </thead>\n",
       "  <tbody>\n",
       "    <tr>\n",
       "      <td>Interest Expense</td>\n",
       "      <td>0</td>\n",
       "      <td>1</td>\n",
       "      <td>0</td>\n",
       "      <td>0</td>\n",
       "      <td>1</td>\n",
       "    </tr>\n",
       "    <tr>\n",
       "      <td>Net Income - Non-Controlling int</td>\n",
       "      <td>0</td>\n",
       "      <td>0</td>\n",
       "      <td>0</td>\n",
       "      <td>0</td>\n",
       "      <td>0</td>\n",
       "    </tr>\n",
       "    <tr>\n",
       "      <td>Preferred Dividends</td>\n",
       "      <td>0</td>\n",
       "      <td>0</td>\n",
       "      <td>1</td>\n",
       "      <td>0</td>\n",
       "      <td>1</td>\n",
       "    </tr>\n",
       "    <tr>\n",
       "      <td>Dividend per Share</td>\n",
       "      <td>1</td>\n",
       "      <td>0</td>\n",
       "      <td>0</td>\n",
       "      <td>0</td>\n",
       "      <td>1</td>\n",
       "    </tr>\n",
       "    <tr>\n",
       "      <td>Short-term investments</td>\n",
       "      <td>0</td>\n",
       "      <td>0</td>\n",
       "      <td>1</td>\n",
       "      <td>0</td>\n",
       "      <td>1</td>\n",
       "    </tr>\n",
       "    <tr>\n",
       "      <td>...</td>\n",
       "      <td>...</td>\n",
       "      <td>...</td>\n",
       "      <td>...</td>\n",
       "      <td>...</td>\n",
       "      <td>...</td>\n",
       "    </tr>\n",
       "    <tr>\n",
       "      <td>Receivables Turnover</td>\n",
       "      <td>0</td>\n",
       "      <td>0</td>\n",
       "      <td>0</td>\n",
       "      <td>1</td>\n",
       "      <td>1</td>\n",
       "    </tr>\n",
       "    <tr>\n",
       "      <td>Inventory Turnover</td>\n",
       "      <td>0</td>\n",
       "      <td>0</td>\n",
       "      <td>1</td>\n",
       "      <td>0</td>\n",
       "      <td>1</td>\n",
       "    </tr>\n",
       "    <tr>\n",
       "      <td>Free Cash Flow growth</td>\n",
       "      <td>0</td>\n",
       "      <td>0</td>\n",
       "      <td>0</td>\n",
       "      <td>1</td>\n",
       "      <td>1</td>\n",
       "    </tr>\n",
       "    <tr>\n",
       "      <td>Receivables growth</td>\n",
       "      <td>0</td>\n",
       "      <td>0</td>\n",
       "      <td>0</td>\n",
       "      <td>1</td>\n",
       "      <td>1</td>\n",
       "    </tr>\n",
       "    <tr>\n",
       "      <td>Debt Growth</td>\n",
       "      <td>0</td>\n",
       "      <td>0</td>\n",
       "      <td>0</td>\n",
       "      <td>1</td>\n",
       "      <td>1</td>\n",
       "    </tr>\n",
       "  </tbody>\n",
       "</table>\n",
       "<p>29 rows × 5 columns</p>\n",
       "</div>"
      ],
      "text/plain": [
       "                                  f test  \\\n",
       "Interest Expense                  0        \n",
       "Net Income - Non-Controlling int  0        \n",
       "Preferred Dividends               0        \n",
       "Dividend per Share                1        \n",
       "Short-term investments            0        \n",
       "...                              ..        \n",
       "Receivables Turnover              0        \n",
       "Inventory Turnover                0        \n",
       "Free Cash Flow growth             0        \n",
       "Receivables growth                0        \n",
       "Debt Growth                       0        \n",
       "\n",
       "                                  MI  \\\n",
       "Interest Expense                  1    \n",
       "Net Income - Non-Controlling int  0    \n",
       "Preferred Dividends               0    \n",
       "Dividend per Share                0    \n",
       "Short-term investments            0    \n",
       "...                              ..    \n",
       "Receivables Turnover              0    \n",
       "Inventory Turnover                0    \n",
       "Free Cash Flow growth             0    \n",
       "Receivables growth                0    \n",
       "Debt Growth                       0    \n",
       "\n",
       "                                  lr  \\\n",
       "Interest Expense                  0    \n",
       "Net Income - Non-Controlling int  0    \n",
       "Preferred Dividends               1    \n",
       "Dividend per Share                0    \n",
       "Short-term investments            1    \n",
       "...                              ..    \n",
       "Receivables Turnover              0    \n",
       "Inventory Turnover                1    \n",
       "Free Cash Flow growth             0    \n",
       "Receivables growth                0    \n",
       "Debt Growth                       0    \n",
       "\n",
       "                                  rf  \\\n",
       "Interest Expense                  0    \n",
       "Net Income - Non-Controlling int  0    \n",
       "Preferred Dividends               0    \n",
       "Dividend per Share                0    \n",
       "Short-term investments            0    \n",
       "...                              ..    \n",
       "Receivables Turnover              1    \n",
       "Inventory Turnover                0    \n",
       "Free Cash Flow growth             1    \n",
       "Receivables growth                1    \n",
       "Debt Growth                       1    \n",
       "\n",
       "                                  total  \n",
       "Interest Expense                  1      \n",
       "Net Income - Non-Controlling int  0      \n",
       "Preferred Dividends               1      \n",
       "Dividend per Share                1      \n",
       "Short-term investments            1      \n",
       "...                              ..      \n",
       "Receivables Turnover              1      \n",
       "Inventory Turnover                1      \n",
       "Free Cash Flow growth             1      \n",
       "Receivables growth                1      \n",
       "Debt Growth                       1      \n",
       "\n",
       "[29 rows x 5 columns]"
      ]
     },
     "execution_count": 271,
     "metadata": {},
     "output_type": "execute_result"
    }
   ],
   "source": [
    "df_feature[(df_feature['total']<2)  ]"
   ]
  },
  {
   "cell_type": "code",
   "execution_count": 682,
   "metadata": {},
   "outputs": [
    {
     "data": {
      "text/plain": [
       "f test    1\n",
       "MI        1\n",
       "lr        0\n",
       "rf        0\n",
       "total     2\n",
       "Name: R&D Expense Growth, dtype: int64"
      ]
     },
     "execution_count": 682,
     "metadata": {},
     "output_type": "execute_result"
    }
   ],
   "source": [
    "df_feature.loc['R&D Expense Growth',:]"
   ]
  },
  {
   "cell_type": "code",
   "execution_count": 263,
   "metadata": {},
   "outputs": [],
   "source": [
    "col_removed=['Net Income - Non-Controlling int', 'Tax assets', 'Intangibles to Total Assets','Receivables growth'\n",
    "                        ,'operatingCycle','ebtperEBIT','Acquisitions and disposals','Issuance (repayment) of debt']"
   ]
  },
  {
   "cell_type": "code",
   "execution_count": 264,
   "metadata": {},
   "outputs": [],
   "source": [
    "df.drop(col_removed,axis=1,inplace=True)"
   ]
  },
  {
   "cell_type": "code",
   "execution_count": 283,
   "metadata": {},
   "outputs": [],
   "source": [
    "df.drop(['Preferred Dividends','Short-term investments'],axis=1,inplace=True)"
   ]
  },
  {
   "cell_type": "code",
   "execution_count": 284,
   "metadata": {},
   "outputs": [],
   "source": [
    "df.to_csv('null from alpha vantage/final result after removing by feature selection.csv')"
   ]
  },
  {
   "cell_type": "code",
   "execution_count": null,
   "metadata": {},
   "outputs": [],
   "source": []
  },
  {
   "cell_type": "markdown",
   "metadata": {},
   "source": [
    "# Step 4 Data Transformation"
   ]
  },
  {
   "cell_type": "markdown",
   "metadata": {},
   "source": [
    "## 1 Binning the numerical features"
   ]
  },
  {
   "cell_type": "code",
   "execution_count": 1023,
   "metadata": {},
   "outputs": [],
   "source": [
    "df=pd.read_csv(\"null from alpha vantage/final result after removing by feature selection.csv\")"
   ]
  },
  {
   "cell_type": "code",
   "execution_count": 1024,
   "metadata": {},
   "outputs": [],
   "source": [
    "cols_bin=['Revenue Growth','Gross Profit Growth','SG&A Expenses Growth',\n",
    "'Operating Income Growth','EBIT Growth','EPS Growth','Weighted Average Shares Growth',\n",
    "'Weighted Average Shares Diluted Growth',   'Asset Growth',\n",
    "'Debt Growth', 'Book Value per Share Growth', 'Operating Cash Flow growth','Free Cash Flow growth',\n",
    "'R&D Expense Growth','Inventory Growth']\n",
    "\n"
   ]
  },
  {
   "cell_type": "code",
   "execution_count": null,
   "metadata": {},
   "outputs": [],
   "source": []
  },
  {
   "cell_type": "code",
   "execution_count": null,
   "metadata": {},
   "outputs": [],
   "source": [
    "#these columns have not yet been bined, But can be consider for binning in future\n",
    "cols_not_yet_binned=['ROE',\n",
    "'returnOnCapitalEmployed','returnOnAssets','Free Cash Flow Yield','Earnings Yield',\n",
    "'EPS','Gross Margin','EBIT Margin','Free Cash Flow margin','Current ratio','quickRatio','cashRatio',\n",
    "\n",
    "'Revenue per Share','Net Income per Share','Cash per Share','Operating Cash Flow per Share','Capex per Share',\n",
    "'Shareholders Equity per Share','Interest Debt per Share',\n",
    "'Book Value per Share','Tangible Book Value per Share',\n",
    "'Free Cash Flow per Share',\n",
    "\n",
    "'Days Payables Outstanding','Days Sales Outstanding','Dividend Yield',\n",
    "\n",
    "'PE ratio','priceToFreeCashFlowsRatio','Interest Coverage','Days of Inventory on Hand','Inventory Turnover',\n",
    "'Payables Turnover','priceEarningsToGrowthRatio',\n",
    "\n",
    "'Receivables Turnover','fixedAssetTurnover','assetTurnover',\n",
    "'cashFlowCoverageRatios','shortTermCoverageRatios',\n",
    "'capitalExpenditureCoverageRatios','dividendpaidAndCapexCoverageRatios',\n",
    "'enterpriseValueMultiple','Dividend per Share',\n",
    "\n",
    "'Income Quality','cashConversionCycle',\n",
    "'Dividends per Share Growth','R&D to Revenue',\n",
    "'Price to Sales Ratio','SG&A to Revenue','nIperEBT','Payout Ratio','totalDebtToCapitalization','Net Debt to EBITDA',\n",
    "'Debt to Equity','Debt to Assets','PTB ratio','Stock-based compensation to Revenue',\n",
    "'operatingCashFlowSalesRatio','priceToOperatingCashFlowsRatio',\n",
    "'Capex to Operating Cash Flow','Capex to Revenue','Capex to Depreciation','freeCashFlowOperatingCashFlowRatio',\n",
    "'EV to Operating cash flow','EV to Free cash flow',\n",
    "'EV to Sales','companyEquityMultiplier']"
   ]
  },
  {
   "cell_type": "code",
   "execution_count": 1025,
   "metadata": {},
   "outputs": [],
   "source": [
    "cols_left=[]\n",
    "for cols in cols_bin:\n",
    "    bin_labels_5 = [0,1, 2,3,4]\n",
    "    try:\n",
    "        df[cols]= pd.cut(df[cols], 5,labels=bin_labels_5)\n",
    "    except:\n",
    "        print(cols)"
   ]
  },
  {
   "cell_type": "code",
   "execution_count": 1026,
   "metadata": {},
   "outputs": [],
   "source": [
    "df.drop('Unnamed: 0',axis=1,inplace=True)"
   ]
  },
  {
   "cell_type": "code",
   "execution_count": 1027,
   "metadata": {},
   "outputs": [],
   "source": [
    "df.to_csv('null from alpha vantage/final result after binning.csv')"
   ]
  },
  {
   "cell_type": "markdown",
   "metadata": {},
   "source": [
    "## 2 Encoding the categorical variable "
   ]
  },
  {
   "cell_type": "code",
   "execution_count": 1028,
   "metadata": {},
   "outputs": [],
   "source": [
    "df=pd.read_csv('null from alpha vantage/final result after binning.csv')"
   ]
  },
  {
   "cell_type": "code",
   "execution_count": 1029,
   "metadata": {
    "scrolled": true
   },
   "outputs": [],
   "source": [
    "df.drop(['Unnamed: 0'],axis=1,inplace=True)"
   ]
  },
  {
   "cell_type": "code",
   "execution_count": 1030,
   "metadata": {},
   "outputs": [],
   "source": [
    "df=pd.get_dummies(df,columns=['Sector'])"
   ]
  },
  {
   "cell_type": "markdown",
   "metadata": {},
   "source": [
    "# 3 Scaling the data"
   ]
  },
  {
   "cell_type": "code",
   "execution_count": null,
   "metadata": {},
   "outputs": [],
   "source": []
  },
  {
   "cell_type": "code",
   "execution_count": 1032,
   "metadata": {},
   "outputs": [],
   "source": [
    "num_cols=df.select_dtypes(include=['float64','int64']).columns\n",
    "num_cols=num_cols[0:139]\n"
   ]
  },
  {
   "cell_type": "code",
   "execution_count": 1033,
   "metadata": {},
   "outputs": [],
   "source": [
    "num_cols1=[]\n",
    "for cols in num_cols:\n",
    "    if cols not in cols_bin:\n",
    "        num_cols1.append(cols)\n",
    "        "
   ]
  },
  {
   "cell_type": "code",
   "execution_count": 1035,
   "metadata": {},
   "outputs": [],
   "source": [
    "df_num=df[num_cols1]"
   ]
  },
  {
   "cell_type": "code",
   "execution_count": 1036,
   "metadata": {},
   "outputs": [],
   "source": [
    "from sklearn.preprocessing import StandardScaler\n",
    "\n",
    "ss=StandardScaler()\n",
    "cols=df_num.columns\n",
    "df_num=ss.fit_transform(df_num)\n",
    "\n",
    "df_num=pd.DataFrame(df_num,columns=cols)"
   ]
  },
  {
   "cell_type": "code",
   "execution_count": 1037,
   "metadata": {},
   "outputs": [],
   "source": [
    "rem_cols=[]\n",
    "for cols in df.columns:\n",
    "    if (cols not in df_num.columns):\n",
    "        rem_cols.append(cols)\n",
    "        "
   ]
  },
  {
   "cell_type": "code",
   "execution_count": 1041,
   "metadata": {},
   "outputs": [],
   "source": [
    "df_concat=pd.concat((df_num,df[rem_cols]),join='outer',axis=1)"
   ]
  },
  {
   "cell_type": "code",
   "execution_count": 1049,
   "metadata": {},
   "outputs": [],
   "source": [
    "df_concat.to_csv('null from alpha vantage/final result after scaling-encoding.csv')"
   ]
  },
  {
   "cell_type": "markdown",
   "metadata": {},
   "source": [
    "# END"
   ]
  }
 ],
 "metadata": {
  "kernelspec": {
   "display_name": "Python 3",
   "language": "python",
   "name": "python3"
  },
  "language_info": {
   "codemirror_mode": {
    "name": "ipython",
    "version": 3
   },
   "file_extension": ".py",
   "mimetype": "text/x-python",
   "name": "python",
   "nbconvert_exporter": "python",
   "pygments_lexer": "ipython3",
   "version": "3.8.3"
  }
 },
 "nbformat": 4,
 "nbformat_minor": 2
}
